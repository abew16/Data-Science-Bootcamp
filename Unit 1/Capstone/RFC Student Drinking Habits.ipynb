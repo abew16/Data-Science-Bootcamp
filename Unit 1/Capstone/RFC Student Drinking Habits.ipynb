{
 "cells": [
  {
   "cell_type": "markdown",
   "metadata": {},
   "source": [
    "# RFC: Student Drinking Habits\n",
    "\n",
    "Teen drinking is handled differently accross the world. The majority of countries have a legal drinking age of 18. Here in the U.S. the legal age is 21, which is tied for the highest legal drinking age in the world (except for countries where alcohol is illegal). The higher drinking age here reflects a specific cultural attitude toward alcohol. Here in the U.S. alcohol is widely considered a drug consumed to elicit physical and psychological effects. In contrast, countries in Mediterranean Europe view alcohol as a normal part of their diet and in turn have lower drinking ages.\n",
    "\n",
    "\n",
    "## The Question\n",
    "\n",
    "Does the culture surrounding alochol have an effect on high school student performance?  \n",
    "\n",
    "Multiple studies have shown that the effects of alcohol on behavior is primarily based on social and cultural factors as opposed to its chemical effects [(1)](http://www.sirc.org/publik/drinking3.html). It follows that students in countries where alcohol is more socially acceptable might perform better in school if they consume alcohol compared to their peers in more restrictive countries.\n",
    "\n",
    "\n",
    "## The Data:\n",
    "\n",
    "A quick analysis of this dataset will give us an introductory view on how alcohol effects students performance.\n",
    "\n",
    "The data contains information on age, gender, social habits, drinking habits and class scores for students at two secondary schools (high schools) in Portugal. This particular dataset focuses on a classes in math. The minimum purchase age in Portugal is 18 and the minimum drinking age is 16. The culture is also more accepting of consuming alcohol as part of a normal diet and not just as a recreational drug. \n",
    "\n",
    "The data comes from the following dataset: \n",
    "\n",
    "Using Data Mining To Predict Secondary School Student Alcohol Consumption. \n",
    "Fabio Pagnotta, Hossain Mohammad Amran \n",
    "Department of Computer Science,University of Camerino\n",
    "[Link to paper](https://www.researchgate.net/publication/296695247_USING_DATA_MINING_TO_PREDICT_SECONDARY_SCHOOL_STUDENT_ALCOHOL_CONSUMPTION)\n",
    " \n",
    "\n",
    "### Primary Attributes in dataset: \n",
    "sex - student's sex (binary: 'F' - female or 'M' - male) <br>\n",
    "age - student's age (numeric: from 15 to 22) <br>\n",
    "Dalc - workday alcohol consumption (numeric: from 1 - very low to 5 - very high)  \n",
    "Walc - weekend alcohol consumption (numeric: from 1 - very low to 5 - very high)  \n",
    "G3 - final grade (numeric: from 0 to 20) \n",
    "\n",
    "See full attribute information [here](https://archive.ics.uci.edu/ml/datasets/STUDENT+ALCOHOL+CONSUMPTION)"
   ]
  },
  {
   "cell_type": "code",
   "execution_count": 1,
   "metadata": {
    "collapsed": false
   },
   "outputs": [],
   "source": [
    "%matplotlib inline\n",
    "import pandas as pd\n",
    "import numpy as np\n",
    "import seaborn as sns\n",
    "from matplotlib import pyplot as plt\n",
    "from scipy import stats\n",
    "\n",
    "file = ('C:\\\\Users\\\\Abe\\\\Data Science Bootcamp\\\\Student Alcohol Data\\\\student-mat.csv')\n",
    "df = pd.read_csv(file, delimiter=';')"
   ]
  },
  {
   "cell_type": "code",
   "execution_count": 2,
   "metadata": {
    "collapsed": false,
    "scrolled": true
   },
   "outputs": [],
   "source": [
    "# There are 5 students who are older than 19 which do not represent the standard population of a secondary school\n",
    "# I will remove these outliers\n",
    "df.drop(df[df['age'] > 19].index, inplace=True)"
   ]
  },
  {
   "cell_type": "code",
   "execution_count": 3,
   "metadata": {
    "collapsed": false
   },
   "outputs": [
    {
     "name": "stdout",
     "output_type": "stream",
     "text": [
      "Average Alcohol Consumption by Gender\n",
      "         Dalc      Walc\n",
      "sex                    \n",
      "F    1.256039  1.961353\n",
      "M    1.699454  2.644809\n"
     ]
    },
    {
     "data": {
      "image/png": "[encoded data removed]",
      "text/plain": [
       "<matplotlib.figure.Figure at 0x89a3f70>"
      ]
     },
     "metadata": {},
     "output_type": "display_data"
    },
    {
     "name": "stdout",
     "output_type": "stream",
     "text": [
      "Ttest_indResult(statistic=5.2203550598905935, pvalue=2.9169889376922557e-07)\n"
     ]
    },
    {
     "data": {
      "image/png": "[encoded data removed]",
      "text/plain": [
       "<matplotlib.figure.Figure at 0x8af2c90>"
      ]
     },
     "metadata": {},
     "output_type": "display_data"
    },
    {
     "name": "stdout",
     "output_type": "stream",
     "text": [
      "Ttest_indResult(statistic=5.4641788548654802, pvalue=8.3317286273136517e-08)\n"
     ]
    }
   ],
   "source": [
    "# Look at alcohol alcohol consumption rates by gender\n",
    "# Males drink more than females both during the week and the weekend at a significant level\n",
    "\n",
    "df_ss = df[['Dalc', 'Walc','sex']]\n",
    "\n",
    "print ('Average Alcohol Consumption by Gender')\n",
    "print (df_ss.groupby('sex').mean())\n",
    "sns.boxplot(x='sex',y='Dalc',data=df_ss)\n",
    "plt.title('Workday Alcohol Consumption by ss')\n",
    "plt.show()\n",
    "print (stats.ttest_ind(df_ss[df_ss['sex'] == 'M']['Dalc'],\n",
    "                       df_ss[df_ss['sex'] == 'F']['Dalc']))\n",
    "plt.title('Weekend Alcohol Consumption by ss')\n",
    "sns.boxplot(x='sex',y='Walc',data=df_ss)\n",
    "plt.show()\n",
    "print (stats.ttest_ind(df_ss[df_ss['sex'] == 'M']['Walc'],\n",
    "                       df_ss[df_ss['sex'] == 'F']['Walc']))"
   ]
  },
  {
   "cell_type": "code",
   "execution_count": 4,
   "metadata": {
    "collapsed": false
   },
   "outputs": [
    {
     "name": "stdout",
     "output_type": "stream",
     "text": [
      "             G3      \n",
      "           mean count\n",
      "Dalc                 \n",
      "1     10.689781   274\n",
      "2      9.253333    75\n",
      "3     10.640000    25\n",
      "4     10.000000     8\n",
      "5     11.000000     8\n",
      "             G3      \n",
      "           mean count\n",
      "Walc                 \n",
      "1     10.657718   149\n",
      "2     10.082353    85\n",
      "3     10.772152    79\n",
      "4      9.686275    51\n",
      "5     10.269231    26\n",
      "F_onewayResult(statistic=1.5221265144776668, pvalue=0.19496729134563245)\n",
      "F_onewayResult(statistic=0.66217574909812571, pvalue=0.61861243714800418)\n"
     ]
    }
   ],
   "source": [
    "# Effect of Alcohol on Grades\n",
    "# Doesn't look like much of an effect in total\n",
    "\n",
    "df_d = df[['Dalc','G3']]\n",
    "df_w = df[['Walc','G3']]\n",
    "\n",
    "print (df_d.groupby('Dalc').agg({'G3':{'mean':'mean','count':'count'}}))\n",
    "print (df_w.groupby('Walc').agg({'G3':{'mean':'mean','count':'count'}}))\n",
    "\n",
    "col_d = [group['G3'] for alc, group in df_d.groupby('Dalc')]\n",
    "col_w = [group['G3'] for alc, group in df_w.groupby('Walc')]\n",
    "\n",
    "print (stats.f_oneway(*col_d))\n",
    "print (stats.f_oneway(*col_w))"
   ]
  },
  {
   "cell_type": "code",
   "execution_count": 5,
   "metadata": {
    "collapsed": false
   },
   "outputs": [
    {
     "name": "stdout",
     "output_type": "stream",
     "text": [
      "             G3      \n",
      "           mean count\n",
      "Dalc                 \n",
      "1     11.712963   108\n",
      "2      9.214286    42\n",
      "3     10.700000    20\n",
      "4      9.333333     6\n",
      "5     11.000000     7\n",
      "F_onewayResult(statistic=2.6410559237758107, pvalue=0.035371443870197562)\n",
      "Pearson R Coefficient and p value: (-0.12542949806851184, 0.090676431276654243)\n"
     ]
    },
    {
     "data": {
      "image/png": "[encoded data removed]",
      "text/plain": [
       "<matplotlib.figure.Figure at 0x8ec53f0>"
      ]
     },
     "metadata": {},
     "output_type": "display_data"
    },
    {
     "name": "stdout",
     "output_type": "stream",
     "text": [
      "             G3      \n",
      "           mean count\n",
      "Walc                 \n",
      "1     12.375000    56\n",
      "2     11.117647    34\n",
      "3     10.264706    34\n",
      "4      9.702703    37\n",
      "5     10.000000    22\n",
      "F_onewayResult(statistic=2.664196499319563, pvalue=0.034092915265304176)\n",
      "Pearson R Coefficient and p value: (-0.22152177382913124, 0.0025809152784931062)\n"
     ]
    },
    {
     "data": {
      "image/png": "[encoded data removed]",
      "text/plain": [
       "<matplotlib.figure.Figure at 0x8af29b0>"
      ]
     },
     "metadata": {},
     "output_type": "display_data"
    }
   ],
   "source": [
    "# Effect of alcohol consumption on grades for males\n",
    "# Alcohol consumption has a statstically significant effect on grades for males\n",
    "\n",
    "df_d = df[df['sex'] == 'M'][['Dalc','G3']]\n",
    "df_w = df[df['sex'] == 'M'][['Walc','G3']]\n",
    "col_d = [group['G3'] for alc, group in df_d.groupby('Dalc')]\n",
    "col_w = [group['G3'] for alc, group in df_w.groupby('Walc')]\n",
    "\n",
    "print (df_d.groupby('Dalc').agg({'G3':{'mean':'mean','count':'count'}}))\n",
    "print (stats.f_oneway(*col_d))\n",
    "print ('Pearson R Coefficient and p value: {}'.format(stats.pearsonr(df_d['Dalc'],df_w['G3'])))\n",
    "sns.boxplot(x=df_d['Dalc'],y=df_d['G3'])\n",
    "plt.show()\n",
    "\n",
    "print (df_w.groupby('Walc').agg({'G3':{'mean':'mean','count':'count'}}))\n",
    "print (stats.f_oneway(*col_w))\n",
    "print ('Pearson R Coefficient and p value: {}'.format(stats.pearsonr(df_w['Walc'],df_w['G3'])))\n",
    "sns.boxplot(x=df_w['Walc'],y=df_w['G3'])\n",
    "plt.show()\n",
    "\n",
    "# The boxplot here makes it look as though there is no correlation because it doesn't show n of each box\n",
    "# Edit axis labels to show n\n",
    "# Use a violin plot"
   ]
  },
  {
   "cell_type": "markdown",
   "metadata": {},
   "source": [
    "### First Look\n",
    "\n",
    "After looking at some data on the effects of alcohol consumption on grades, it looks like alcohol does have a small negative impact on classroom performance. This effect was found in males, possibly due to the fact that males drink more overall than women. \n",
    "\n",
    "One issue with this data set is that there is no value for students who do not drink at all. The lowest value in the survey was for very low alcohol consumption. Comparing students grades for those who don't drink against those who do could give us more information on the link between alcohol consumption and grades."
   ]
  },
  {
   "cell_type": "markdown",
   "metadata": {},
   "source": [
    "# The Experiment\n",
    "\n",
    "In order to evaluate the effect of culture & alcohol consumption on grades we need data from schools accross different cultures. \n",
    "\n",
    "## Set Up\n",
    "\n",
    "If we picked schools at random, there is a high likeliyhood that our results would be cofounded by the effect of school quality. In order to control for this our best option would be to find a school which operates accross cultures. A potential candidate would be the Department of Defense Dependent Schools. These schools exist in many different countries, but follow the same curriculum and standards put forth by the Department of Defense Education Activity. We would need to make sure that the student make-up is local enough so that the culture is not overwhelmingly U.S. influenced. \n",
    "\n",
    "[[Create your own bell curve for each class]]\n",
    "\n",
    "Similar to the previous study, we should focus on one specific class, for example a math class generally taken in the 2nd or 3rd year\n",
    "\n",
    "Anonymous Survey:\n",
    "- Sex\n",
    "- Age\n",
    "- How much alcohol do you consume during the work week? (In units. One unit = 1 beer, 1 shot or 1 glass of wine)\n",
    "- How much alcohol do you consume during the weekend? (In units. One unit = 1 beer, 1 shot or 1 glass of wine)\n",
    "- Grades\n",
    "\n",
    "Self reporting on illegal activity is always suspect, let alone for a minor. Its very likely that students in general would underreport their alcohol consumption. \n",
    "\n",
    "## Success\n",
    "\n",
    "Success would be defined as collecting enough data to be able to determine if there are differences in alcohol consumption and their effect on grades in different countries. "
   ]
  }
 ],
 "metadata": {
  "kernelspec": {
   "display_name": "Python 3",
   "language": "python",
   "name": "python3"
  },
  "language_info": {
   "codemirror_mode": {
    "name": "ipython",
    "version": 3
   },
   "file_extension": ".py",
   "mimetype": "text/x-python",
   "name": "python",
   "nbconvert_exporter": "python",
   "pygments_lexer": "ipython3",
   "version": "3.6.0"
  }
 },
 "nbformat": 4,
 "nbformat_minor": 2
}
