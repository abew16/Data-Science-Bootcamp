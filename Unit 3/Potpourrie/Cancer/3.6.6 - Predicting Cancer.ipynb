{
 "cells": [
  {
   "cell_type": "markdown",
   "metadata": {},
   "source": [
    "# 3.6.6 - Predicting Cancer\n",
    "\n",
    "1. Sample code number\n",
    "2. Clump Thickness\n",
    "3. Uniformity of Cell Size\n",
    "4. Uniformity of Cell Shape\n",
    "5. Marginal Adhesion\n",
    "6. Single Epithelial Cell Size\n",
    "7. Bare Nuclei\n",
    "8. Bland Chromatin\n",
    "9. Normal Nucleoli\n",
    "10. Mitoses\n",
    "11. Class"
   ]
  },
  {
   "cell_type": "code",
   "execution_count": 32,
   "metadata": {
    "collapsed": true
   },
   "outputs": [],
   "source": [
    "import numpy as np\n",
    "import pandas as pd\n",
    "import matplotlib.pyplot as plt\n",
    "import seaborn as sns"
   ]
  },
  {
   "cell_type": "code",
   "execution_count": 29,
   "metadata": {},
   "outputs": [
    {
     "name": "stdout",
     "output_type": "stream",
     "text": [
      "<class 'pandas.core.frame.DataFrame'>\n",
      "RangeIndex: 699 entries, 0 to 698\n",
      "Data columns (total 10 columns):\n",
      "clump thickess       699 non-null int64\n",
      "u cell size          699 non-null int64\n",
      "u cell shape         699 non-null int64\n",
      "marginal adhesion    699 non-null int64\n",
      "e cell size          699 non-null int64\n",
      "bare nuclei          699 non-null object\n",
      "bland chromatin      699 non-null int64\n",
      "normal nucleoli      699 non-null int64\n",
      "mitoses              699 non-null int64\n",
      "class                699 non-null int64\n",
      "dtypes: int64(9), object(1)\n",
      "memory usage: 54.7+ KB\n"
     ]
    }
   ],
   "source": [
    "f = r'../../../../Data-Science-Data/Unit 3/cancer.csv'\n",
    "\n",
    "cols = [\n",
    "    'sample #',\n",
    "    'clump thickess',\n",
    "    'u cell size',\n",
    "    'u cell shape',\n",
    "    'marginal adhesion',\n",
    "    'e cell size',\n",
    "    'bare nuclei',\n",
    "    'bland chromatin',\n",
    "    'normal nucleoli',\n",
    "    'mitoses',\n",
    "    'class'\n",
    "]\n",
    "\n",
    "col_range = range(1,11,1)\n",
    "\n",
    "df = pd.read_csv(f, usecols=col_range, names=cols)\n",
    "df.info()"
   ]
  },
  {
   "cell_type": "code",
   "execution_count": 30,
   "metadata": {},
   "outputs": [
    {
     "data": {
      "text/plain": [
       "array(['1', '10', '2', '4', '3', '9', '7', '?', '5', '8', '6'], dtype=object)"
      ]
     },
     "execution_count": 30,
     "metadata": {},
     "output_type": "execute_result"
    }
   ],
   "source": [
    "df['bare nuclei'].unique()"
   ]
  },
  {
   "cell_type": "code",
   "execution_count": 31,
   "metadata": {},
   "outputs": [
    {
     "name": "stdout",
     "output_type": "stream",
     "text": [
      "<class 'pandas.core.frame.DataFrame'>\n",
      "Int64Index: 683 entries, 0 to 698\n",
      "Data columns (total 10 columns):\n",
      "clump thickess       683 non-null int64\n",
      "u cell size          683 non-null int64\n",
      "u cell shape         683 non-null int64\n",
      "marginal adhesion    683 non-null int64\n",
      "e cell size          683 non-null int64\n",
      "bare nuclei          683 non-null int32\n",
      "bland chromatin      683 non-null int64\n",
      "normal nucleoli      683 non-null int64\n",
      "mitoses              683 non-null int64\n",
      "class                683 non-null int64\n",
      "dtypes: int32(1), int64(9)\n",
      "memory usage: 56.0 KB\n"
     ]
    }
   ],
   "source": [
    "df = df[df['bare nuclei'] != '?'].astype({'bare nuclei':'int'})\n",
    "df.info()"
   ]
  },
  {
   "cell_type": "code",
   "execution_count": null,
   "metadata": {
    "collapsed": true
   },
   "outputs": [],
   "source": []
  }
 ],
 "metadata": {
  "kernelspec": {
   "display_name": "Python 3",
   "language": "python",
   "name": "python3"
  },
  "language_info": {
   "codemirror_mode": {
    "name": "ipython",
    "version": 3
   },
   "file_extension": ".py",
   "mimetype": "text/x-python",
   "name": "python",
   "nbconvert_exporter": "python",
   "pygments_lexer": "ipython3",
   "version": "3.6.1"
  }
 },
 "nbformat": 4,
 "nbformat_minor": 2
}
