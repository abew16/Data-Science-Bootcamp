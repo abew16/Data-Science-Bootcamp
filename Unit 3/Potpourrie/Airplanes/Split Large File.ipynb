{
 "cells": [
  {
   "cell_type": "code",
   "execution_count": 1,
   "metadata": {
    "collapsed": true
   },
   "outputs": [],
   "source": [
    "import random\n",
    "import pandas as pd"
   ]
  },
  {
   "cell_type": "code",
   "execution_count": 2,
   "metadata": {
    "collapsed": true
   },
   "outputs": [],
   "source": [
    "file = open('C:\\\\Users\\\\Abe\\\\Data Science Bootcamp\\\\Unit 3\\\\Potpourrie\\\\Airplanes\\\\2008.csv','r')\n",
    "out20 = open('C:\\\\Users\\\\Abe\\\\Data Science Bootcamp\\\\Unit 3\\\\Potpourrie\\\\Airplanes\\\\2008_20.csv','w')\n",
    "out80 = open('C:\\\\Users\\\\Abe\\\\Data Science Bootcamp\\\\Unit 3\\\\Potpourrie\\\\Airplanes\\\\2008_80.csv','w')\n",
    "\n",
    "# data = [l for l in file]\n",
    "header = file.readline()\n",
    "\n",
    "out80.write(header)\n",
    "out20.write(header)\n",
    "\n",
    "for line in file:\n",
    "    r = random.random()\n",
    "    if r < .8:\n",
    "        out80.write(line)\n",
    "    else:\n",
    "        out20.write(line)\n",
    "        \n",
    "file.close()\n",
    "out20.close()\n",
    "out80.close()"
   ]
  }
 ],
 "metadata": {
  "kernelspec": {
   "display_name": "Python 3",
   "language": "python",
   "name": "python3"
  },
  "language_info": {
   "codemirror_mode": {
    "name": "ipython",
    "version": 3
   },
   "file_extension": ".py",
   "mimetype": "text/x-python",
   "name": "python",
   "nbconvert_exporter": "python",
   "pygments_lexer": "ipython3",
   "version": "3.6.1"
  }
 },
 "nbformat": 4,
 "nbformat_minor": 2
}
