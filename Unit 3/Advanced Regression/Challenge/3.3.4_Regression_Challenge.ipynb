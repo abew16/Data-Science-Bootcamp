{
 "cells": [
  {
   "cell_type": "markdown",
   "metadata": {},
   "source": [
    "satisfaction_level - \n",
    "Level of satisfaction (0-1) - \n",
    "Numeric  \n",
    "last_evaluation - \n",
    "1 - \n",
    "Numeric  \n",
    "number_project - \n",
    "Number of projects completed while at work - \n",
    "Numeric  \n",
    "average_montly_hours - \n",
    "Average monthly hours at workplace - \n",
    "Numeric  \n",
    "time_spend_company - \n",
    "Number of years spent in the company - \n",
    "Numeric  \n",
    "Work_accident - \n",
    "Whether the employee had a workplace accident - \n",
    "Numeric  \n",
    "left - \n",
    "Whether the employee left the workplace or not (1 or 0) Factor - \n",
    "Numeric   \n",
    "promotion_last_5years - \n",
    "Whether the employee was promoted in the last five years -\n",
    "Numeric  \n",
    "sales -\n",
    "Department in which they work for -\n",
    "String  \n",
    "salary - \n",
    "Relative level of salary (high) -\n",
    "String\n",
    "\n",
    "Dataset:\n",
    "https://www.kaggle.com/ludobenistant/hr-analytics"
   ]
  },
  {
   "cell_type": "code",
   "execution_count": 1,
   "metadata": {
    "collapsed": true
   },
   "outputs": [],
   "source": [
    "import pandas as pd\n",
    "import numpy as np\n",
    "from sklearn import linear_model\n",
    "from sklearn.linear_model import LogisticRegression\n",
    "from sklearn.model_selection import cross_val_score\n",
    "from sklearn.model_selection import train_test_split"
   ]
  },
  {
   "cell_type": "code",
   "execution_count": 2,
   "metadata": {
    "collapsed": false
   },
   "outputs": [],
   "source": [
    "file = 'C:\\\\Users\\\\Abe\\\\Data Science Bootcamp\\\\Unit 3\\\\Advanced Regression\\\\Challenge\\\\HR_comma_sep.csv'\n",
    "df = pd.read_csv(file)\n",
    "\n",
    "# Getting Memory Error with all the data.\n",
    "# df.sample(frac=.8,replace=True)"
   ]
  },
  {
   "cell_type": "code",
   "execution_count": 3,
   "metadata": {
    "collapsed": false
   },
   "outputs": [
    {
     "name": "stdout",
     "output_type": "stream",
     "text": [
      "sales\n",
      "['sales' 'accounting' 'hr' 'technical' 'support' 'management' 'IT'\n",
      " 'product_mng' 'marketing' 'RandD']\n",
      "salary\n",
      "['low' 'medium' 'high']\n"
     ]
    }
   ],
   "source": [
    "df_objects = df.select_dtypes(include=['object'])\n",
    "for col in df_objects.columns:\n",
    "    print(col)\n",
    "    print(df[col].unique())"
   ]
  },
  {
   "cell_type": "code",
   "execution_count": 4,
   "metadata": {
    "collapsed": false
   },
   "outputs": [],
   "source": [
    "Y = df['left']\n",
    "X = df.drop(['left'],axis=1)\n",
    "X = pd.get_dummies(X)"
   ]
  },
  {
   "cell_type": "code",
   "execution_count": 5,
   "metadata": {
    "collapsed": false
   },
   "outputs": [
    {
     "name": "stdout",
     "output_type": "stream",
     "text": [
      "[ 0.80746169  0.79066667  0.79466667  0.78666667  0.806       0.806\n",
      "  0.79333333  0.788       0.74716478  0.73649099]\n",
      "0.785645079605\n"
     ]
    }
   ],
   "source": [
    "#Vanilla Logistic Regression\n",
    "#Use l2 regression and an extremely high value for C to (almost) remove the penalty\n",
    "v_regr = linear_model.LogisticRegression(C=1e9,penalty='l2')\n",
    "\n",
    "v_regr.fit(X,Y)\n",
    "v_score = cross_val_score(v_regr,X,Y,cv=10)\n",
    "print(v_score)\n",
    "print(v_score.mean())"
   ]
  },
  {
   "cell_type": "code",
   "execution_count": 6,
   "metadata": {
    "collapsed": false
   },
   "outputs": [
    {
     "name": "stdout",
     "output_type": "stream",
     "text": [
      "[ 0.80746169  0.78866667  0.79333333  0.78466667  0.804       0.804\n",
      "  0.79133333  0.78933333  0.74382922  0.73315544]\n",
      "0.783977968198\n"
     ]
    }
   ],
   "source": [
    "#Ridge Regression\n",
    "r_regr = linear_model.LogisticRegression(C=.5,penalty='l2')\n",
    "\n",
    "r_regr.fit(X,Y)\n",
    "r_score = cross_val_score(r_regr,X,Y,cv=10)\n",
    "print(r_score)\n",
    "print(r_score.mean())"
   ]
  },
  {
   "cell_type": "code",
   "execution_count": 7,
   "metadata": {
    "collapsed": false
   },
   "outputs": [
    {
     "name": "stdout",
     "output_type": "stream",
     "text": [
      "[ 0.80746169  0.79        0.79466667  0.78533333  0.804       0.80533333\n",
      "  0.796       0.78933333  0.74649767  0.73649099]\n",
      "0.785511701798\n"
     ]
    }
   ],
   "source": [
    "l_regr = linear_model.LogisticRegression(C=.5,penalty='l1')\n",
    "\n",
    "l_regr.fit(X,Y)\n",
    "l_score = cross_val_score(l_regr,X,Y,cv=10)\n",
    "print(l_score)\n",
    "print(l_score.mean())"
   ]
  },
  {
   "cell_type": "code",
   "execution_count": 9,
   "metadata": {
    "collapsed": false
   },
   "outputs": [
    {
     "data": {
      "text/html": [
       "<div>\n",
       "<table border=\"1\" class=\"dataframe\">\n",
       "  <thead>\n",
       "    <tr style=\"text-align: right;\">\n",
       "      <th></th>\n",
       "      <th>Features</th>\n",
       "      <th>Vanilla</th>\n",
       "      <th>Ridge</th>\n",
       "      <th>Lasso</th>\n",
       "    </tr>\n",
       "  </thead>\n",
       "  <tbody>\n",
       "    <tr>\n",
       "      <th>0</th>\n",
       "      <td>satisfaction_level</td>\n",
       "      <td>-4.117259</td>\n",
       "      <td>-4.037027</td>\n",
       "      <td>-4.108213</td>\n",
       "    </tr>\n",
       "    <tr>\n",
       "      <th>1</th>\n",
       "      <td>last_evaluation</td>\n",
       "      <td>0.769927</td>\n",
       "      <td>0.699809</td>\n",
       "      <td>0.667461</td>\n",
       "    </tr>\n",
       "    <tr>\n",
       "      <th>2</th>\n",
       "      <td>number_project</td>\n",
       "      <td>-0.314953</td>\n",
       "      <td>-0.307126</td>\n",
       "      <td>-0.309603</td>\n",
       "    </tr>\n",
       "    <tr>\n",
       "      <th>3</th>\n",
       "      <td>average_montly_hours</td>\n",
       "      <td>0.004414</td>\n",
       "      <td>0.004400</td>\n",
       "      <td>0.004433</td>\n",
       "    </tr>\n",
       "    <tr>\n",
       "      <th>4</th>\n",
       "      <td>time_spend_company</td>\n",
       "      <td>0.266324</td>\n",
       "      <td>0.264342</td>\n",
       "      <td>0.264730</td>\n",
       "    </tr>\n",
       "    <tr>\n",
       "      <th>5</th>\n",
       "      <td>Work_accident</td>\n",
       "      <td>-1.525651</td>\n",
       "      <td>-1.498874</td>\n",
       "      <td>-1.511743</td>\n",
       "    </tr>\n",
       "    <tr>\n",
       "      <th>6</th>\n",
       "      <td>promotion_last_5years</td>\n",
       "      <td>-1.211156</td>\n",
       "      <td>-1.129725</td>\n",
       "      <td>-1.306843</td>\n",
       "    </tr>\n",
       "    <tr>\n",
       "      <th>7</th>\n",
       "      <td>sales_IT</td>\n",
       "      <td>-0.106452</td>\n",
       "      <td>-0.104998</td>\n",
       "      <td>-0.146147</td>\n",
       "    </tr>\n",
       "    <tr>\n",
       "      <th>8</th>\n",
       "      <td>sales_RandD</td>\n",
       "      <td>-0.506033</td>\n",
       "      <td>-0.494244</td>\n",
       "      <td>-0.537139</td>\n",
       "    </tr>\n",
       "    <tr>\n",
       "      <th>9</th>\n",
       "      <td>sales_accounting</td>\n",
       "      <td>0.071539</td>\n",
       "      <td>0.070394</td>\n",
       "      <td>0.003339</td>\n",
       "    </tr>\n",
       "    <tr>\n",
       "      <th>10</th>\n",
       "      <td>sales_hr</td>\n",
       "      <td>0.308447</td>\n",
       "      <td>0.301667</td>\n",
       "      <td>0.235168</td>\n",
       "    </tr>\n",
       "    <tr>\n",
       "      <th>11</th>\n",
       "      <td>sales_management</td>\n",
       "      <td>-0.377364</td>\n",
       "      <td>-0.373419</td>\n",
       "      <td>-0.400472</td>\n",
       "    </tr>\n",
       "    <tr>\n",
       "      <th>12</th>\n",
       "      <td>sales_marketing</td>\n",
       "      <td>0.055890</td>\n",
       "      <td>0.051464</td>\n",
       "      <td>0.000000</td>\n",
       "    </tr>\n",
       "    <tr>\n",
       "      <th>13</th>\n",
       "      <td>sales_product_mng</td>\n",
       "      <td>-0.083291</td>\n",
       "      <td>-0.082527</td>\n",
       "      <td>-0.115172</td>\n",
       "    </tr>\n",
       "    <tr>\n",
       "      <th>14</th>\n",
       "      <td>sales_sales</td>\n",
       "      <td>0.034198</td>\n",
       "      <td>0.032766</td>\n",
       "      <td>-0.014294</td>\n",
       "    </tr>\n",
       "    <tr>\n",
       "      <th>15</th>\n",
       "      <td>sales_support</td>\n",
       "      <td>0.125110</td>\n",
       "      <td>0.122021</td>\n",
       "      <td>0.064892</td>\n",
       "    </tr>\n",
       "    <tr>\n",
       "      <th>16</th>\n",
       "      <td>sales_technical</td>\n",
       "      <td>0.140080</td>\n",
       "      <td>0.138372</td>\n",
       "      <td>0.085857</td>\n",
       "    </tr>\n",
       "    <tr>\n",
       "      <th>17</th>\n",
       "      <td>salary_high</td>\n",
       "      <td>-1.221986</td>\n",
       "      <td>-1.198175</td>\n",
       "      <td>-1.386711</td>\n",
       "    </tr>\n",
       "    <tr>\n",
       "      <th>18</th>\n",
       "      <td>salary_low</td>\n",
       "      <td>0.707139</td>\n",
       "      <td>0.694060</td>\n",
       "      <td>0.526685</td>\n",
       "    </tr>\n",
       "    <tr>\n",
       "      <th>19</th>\n",
       "      <td>salary_medium</td>\n",
       "      <td>0.176972</td>\n",
       "      <td>0.165612</td>\n",
       "      <td>0.000000</td>\n",
       "    </tr>\n",
       "  </tbody>\n",
       "</table>\n",
       "</div>"
      ],
      "text/plain": [
       "                 Features   Vanilla     Ridge     Lasso\n",
       "0      satisfaction_level -4.117259 -4.037027 -4.108213\n",
       "1         last_evaluation  0.769927  0.699809  0.667461\n",
       "2          number_project -0.314953 -0.307126 -0.309603\n",
       "3    average_montly_hours  0.004414  0.004400  0.004433\n",
       "4      time_spend_company  0.266324  0.264342  0.264730\n",
       "5           Work_accident -1.525651 -1.498874 -1.511743\n",
       "6   promotion_last_5years -1.211156 -1.129725 -1.306843\n",
       "7                sales_IT -0.106452 -0.104998 -0.146147\n",
       "8             sales_RandD -0.506033 -0.494244 -0.537139\n",
       "9        sales_accounting  0.071539  0.070394  0.003339\n",
       "10               sales_hr  0.308447  0.301667  0.235168\n",
       "11       sales_management -0.377364 -0.373419 -0.400472\n",
       "12        sales_marketing  0.055890  0.051464  0.000000\n",
       "13      sales_product_mng -0.083291 -0.082527 -0.115172\n",
       "14            sales_sales  0.034198  0.032766 -0.014294\n",
       "15          sales_support  0.125110  0.122021  0.064892\n",
       "16        sales_technical  0.140080  0.138372  0.085857\n",
       "17            salary_high -1.221986 -1.198175 -1.386711\n",
       "18             salary_low  0.707139  0.694060  0.526685\n",
       "19          salary_medium  0.176972  0.165612  0.000000"
      ]
     },
     "execution_count": 9,
     "metadata": {},
     "output_type": "execute_result"
    }
   ],
   "source": [
    "params = pd.DataFrame()\n",
    "\n",
    "params['Features'] = X.columns\n",
    "params['Vanilla'] = v_regr.coef_[0]\n",
    "params['Ridge'] = r_regr.coef_[0]\n",
    "params['Lasso'] = l_regr.coef_[0]\n",
    "params"
   ]
  },
  {
   "cell_type": "markdown",
   "metadata": {},
   "source": [
    "# Notes\n",
    "Out of the 3 models I would prefer the vanilla version. The data set has a manageable amount of features. Vanilla also gives the best R^2 while explaining each feature. The lasso model is very close in terms of R^2, but we lose out on the explanations for sales_marketing and salary_medium, which might be important to a stakeholder who has to make decisions from this model. \n",
    "\n",
    "As an overall model, regression is nice for its ability to give an explanation of the effect of an individual feature. It weaknesses are apparent in its strict assumptions which limit its applications."
   ]
  }
 ],
 "metadata": {
  "kernelspec": {
   "display_name": "Python 3",
   "language": "python",
   "name": "python3"
  },
  "language_info": {
   "codemirror_mode": {
    "name": "ipython",
    "version": 3
   },
   "file_extension": ".py",
   "mimetype": "text/x-python",
   "name": "python",
   "nbconvert_exporter": "python",
   "pygments_lexer": "ipython3",
   "version": "3.6.0"
  }
 },
 "nbformat": 4,
 "nbformat_minor": 2
}
