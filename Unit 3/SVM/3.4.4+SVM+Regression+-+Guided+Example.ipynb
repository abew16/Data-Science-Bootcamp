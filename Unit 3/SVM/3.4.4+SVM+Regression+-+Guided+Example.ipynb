{
 "cells": [
  {
   "cell_type": "code",
   "execution_count": 2,
   "metadata": {
    "collapsed": false,
    "deletable": true,
    "editable": true,
    "run_control": {
     "frozen": false,
     "read_only": false
    }
   },
   "outputs": [],
   "source": [
    "import numpy as np\n",
    "import pandas as pd\n",
    "import scipy\n",
    "import matplotlib.pyplot as plt\n",
    "import seaborn as sns\n",
    "%matplotlib inline"
   ]
  },
  {
   "cell_type": "code",
   "execution_count": 3,
   "metadata": {
    "collapsed": false,
    "deletable": true,
    "editable": true,
    "run_control": {
     "frozen": false,
     "read_only": false
    }
   },
   "outputs": [],
   "source": [
    "raw_data = pd.read_csv('epi_r.csv')"
   ]
  },
  {
   "cell_type": "code",
   "execution_count": 4,
   "metadata": {
    "collapsed": false,
    "deletable": true,
    "editable": true,
    "run_control": {
     "frozen": false,
     "read_only": false
    },
    "scrolled": true
   },
   "outputs": [
    {
     "data": {
      "text/plain": [
       "(20052, 680)"
      ]
     },
     "execution_count": 4,
     "metadata": {},
     "output_type": "execute_result"
    }
   ],
   "source": [
    "list(raw_data.columns)\n",
    "raw_data.shape"
   ]
  },
  {
   "cell_type": "code",
   "execution_count": 5,
   "metadata": {
    "collapsed": false,
    "deletable": true,
    "editable": true,
    "run_control": {
     "frozen": false,
     "read_only": false
    },
    "scrolled": true
   },
   "outputs": [
    {
     "data": {
      "text/plain": [
       "count    20052.000000\n",
       "mean         3.714467\n",
       "std          1.340829\n",
       "min          0.000000\n",
       "25%          3.750000\n",
       "50%          4.375000\n",
       "75%          4.375000\n",
       "max          5.000000\n",
       "Name: rating, dtype: float64"
      ]
     },
     "execution_count": 5,
     "metadata": {},
     "output_type": "execute_result"
    }
   ],
   "source": [
    "raw_data.rating.describe()"
   ]
  },
  {
   "cell_type": "code",
   "execution_count": 6,
   "metadata": {
    "collapsed": false,
    "deletable": true,
    "editable": true,
    "run_control": {
     "frozen": false,
     "read_only": false
    }
   },
   "outputs": [
    {
     "data": {
      "image/png": "[encoded data removed]",
      "text/plain": [
       "<matplotlib.figure.Figure at 0x8520070>"
      ]
     },
     "metadata": {},
     "output_type": "display_data"
    }
   ],
   "source": [
    "raw_data.rating.hist(bins=20)\n",
    "plt.title('Histogram of Recipe Ratings')\n",
    "plt.show()"
   ]
  },
  {
   "cell_type": "code",
   "execution_count": 7,
   "metadata": {
    "collapsed": false,
    "deletable": true,
    "editable": true,
    "run_control": {
     "frozen": false,
     "read_only": false
    }
   },
   "outputs": [
    {
     "data": {
      "text/plain": [
       "calories    4117\n",
       "protein     4162\n",
       "fat         4183\n",
       "sodium      4119\n",
       "dtype: int64"
      ]
     },
     "execution_count": 7,
     "metadata": {},
     "output_type": "execute_result"
    }
   ],
   "source": [
    "# Count nulls \n",
    "null_count = raw_data.isnull().sum()\n",
    "null_count[null_count>0]"
   ]
  },
  {
   "cell_type": "code",
   "execution_count": 8,
   "metadata": {
    "collapsed": false,
    "deletable": true,
    "editable": true,
    "run_control": {
     "frozen": false,
     "read_only": false
    }
   },
   "outputs": [],
   "source": [
    "from sklearn.svm import SVR\n",
    "svr = SVR()\n",
    "# X = raw_data.drop(['rating', 'title', 'calories', 'protein', 'fat', 'sodium'], 1)\n",
    "# Y = raw_data.rating\n",
    "# svr.fit(X,Y)"
   ]
  },
  {
   "cell_type": "code",
   "execution_count": 9,
   "metadata": {
    "collapsed": false,
    "deletable": true,
    "editable": true,
    "run_control": {
     "frozen": false,
     "read_only": false
    }
   },
   "outputs": [],
   "source": [
    "# plt.scatter(Y, svr.predict(X))"
   ]
  },
  {
   "cell_type": "code",
   "execution_count": 10,
   "metadata": {
    "collapsed": false,
    "deletable": true,
    "editable": true,
    "run_control": {
     "frozen": false,
     "read_only": false
    }
   },
   "outputs": [],
   "source": [
    "# svr.score(X, Y)"
   ]
  },
  {
   "cell_type": "code",
   "execution_count": 11,
   "metadata": {
    "collapsed": false,
    "deletable": true,
    "editable": true,
    "run_control": {
     "frozen": false,
     "read_only": false
    }
   },
   "outputs": [],
   "source": [
    "from sklearn.model_selection import cross_val_score\n",
    "# cross_val_score(svr, X, Y, cv=5)"
   ]
  },
  {
   "cell_type": "markdown",
   "metadata": {
    "deletable": true,
    "editable": true,
    "run_control": {
     "frozen": false,
     "read_only": false
    }
   },
   "source": [
    "__Challenge.__\n",
    "\n",
    "Transform this regression problem into a binary classifier and clean up the feature set. You can choose whether or not to include nutritional information, but try to cut your feature set down to the 30 most valuable features.\n",
    "\n",
    "Good luck!"
   ]
  },
  {
   "cell_type": "markdown",
   "metadata": {},
   "source": [
    "# Notes & To Do:\n",
    "1. Reduce Feature set\n",
    " - Sum all columns, transpose and then boxplot/histogram to drop top and bottom 25% (?)\n",
    " - Use ttests to get the best features from that set\n",
    "     - For loop testing each column of the df against the the Y\n",
    " - Count how many features are left and plan accordingly\n",
    "2. Turn SVR to SVC"
   ]
  },
  {
   "cell_type": "code",
   "execution_count": 12,
   "metadata": {
    "collapsed": false
   },
   "outputs": [],
   "source": [
    "raw_data.drop_duplicates(keep='first',inplace=True)"
   ]
  },
  {
   "cell_type": "code",
   "execution_count": 13,
   "metadata": {
    "collapsed": false
   },
   "outputs": [
    {
     "data": {
      "image/png": "[encoded data removed]",
      "text/plain": [
       "<matplotlib.figure.Figure at 0x83e9650>"
      ]
     },
     "metadata": {},
     "output_type": "display_data"
    },
    {
     "data": {
      "text/plain": [
       "count     674.000000\n",
       "mean      333.497033\n",
       "std       891.161223\n",
       "min         1.000000\n",
       "25%         9.000000\n",
       "50%        65.000000\n",
       "75%       253.000000\n",
       "max      8654.000000\n",
       "dtype: float64"
      ]
     },
     "execution_count": 13,
     "metadata": {},
     "output_type": "execute_result"
    }
   ],
   "source": [
    "# Look at the tags\n",
    "\n",
    "df_tags = raw_data.ix[:,6:]\n",
    "totals = df_tags.sum()\n",
    "\n",
    "plt.subplot(1,2,1)\n",
    "plt.hist(totals)\n",
    "plt.subplot(1,2,2)\n",
    "sns.boxplot(totals)\n",
    "plt.show()\n",
    "totals.describe()"
   ]
  },
  {
   "cell_type": "code",
   "execution_count": 14,
   "metadata": {
    "collapsed": false
   },
   "outputs": [
    {
     "data": {
      "text/plain": [
       "count    674.000000\n",
       "mean       0.018273\n",
       "std        0.048828\n",
       "min        0.000055\n",
       "25%        0.000493\n",
       "50%        0.003561\n",
       "75%        0.013862\n",
       "max        0.474166\n",
       "dtype: float64"
      ]
     },
     "execution_count": 14,
     "metadata": {},
     "output_type": "execute_result"
    }
   ],
   "source": [
    "# Make the tags into proportions and look at the distribution\n",
    "\n",
    "num_rows = raw_data.shape[0]\n",
    "tag_proportion = totals/num_rows\n",
    "tag_proportion.describe()"
   ]
  },
  {
   "cell_type": "code",
   "execution_count": 15,
   "metadata": {
    "collapsed": false
   },
   "outputs": [
    {
     "data": {
      "image/png": "[encoded data removed]",
      "text/plain": [
       "<matplotlib.figure.Figure at 0x8cfc330>"
      ]
     },
     "metadata": {},
     "output_type": "display_data"
    },
    {
     "data": {
      "text/plain": [
       "count     595.000000\n",
       "mean      179.315966\n",
       "std       264.886522\n",
       "min         2.000000\n",
       "25%        12.000000\n",
       "50%        68.000000\n",
       "75%       227.000000\n",
       "max      1454.000000\n",
       "dtype: float64"
      ]
     },
     "execution_count": 15,
     "metadata": {},
     "output_type": "execute_result"
    }
   ],
   "source": [
    "# Try cleaning up by proportion. Leave in the higher values. Example: Bottom 5% and top 95%\n",
    "\n",
    "q1  = totals.quantile(.05)\n",
    "q3  = totals.quantile(.95)\n",
    "totals_cleaned = totals.loc[(totals > q1) & \n",
    "                            (totals < q3)]\n",
    "\n",
    "plt.subplot(1,2,1)\n",
    "plt.hist(totals_cleaned)\n",
    "plt.subplot(1,2,2)\n",
    "sns.boxplot(totals_cleaned)\n",
    "plt.show()\n",
    "totals_cleaned.describe()"
   ]
  },
  {
   "cell_type": "code",
   "execution_count": 16,
   "metadata": {
    "collapsed": false
   },
   "outputs": [],
   "source": [
    "df = raw_data[list(totals_cleaned.index) + ['rating']]"
   ]
  },
  {
   "cell_type": "code",
   "execution_count": 17,
   "metadata": {
    "collapsed": false
   },
   "outputs": [],
   "source": [
    "X = df.drop(['rating'], 1)\n",
    "Y = df.rating\n",
    "# svr.fit(X,Y)"
   ]
  },
  {
   "cell_type": "code",
   "execution_count": 18,
   "metadata": {
    "collapsed": false
   },
   "outputs": [],
   "source": [
    "# svr.score(X, Y)"
   ]
  },
  {
   "cell_type": "code",
   "execution_count": 19,
   "metadata": {
    "collapsed": false
   },
   "outputs": [],
   "source": [
    "# cross_val_score(svr, X, Y, cv=5)"
   ]
  },
  {
   "cell_type": "code",
   "execution_count": 20,
   "metadata": {
    "collapsed": false
   },
   "outputs": [],
   "source": [
    "from scipy import stats\n",
    "\n",
    "t_list = []\n",
    "p_list = []\n",
    "for col in raw_data.columns[raw_data.columns.isin(df_tags.columns)]:\n",
    "    value = stats.f_oneway(*[value for name, value in raw_data.groupby('rating')[col]])\n",
    "    t_list.append(value[0])\n",
    "    p_list.append(value[1])"
   ]
  },
  {
   "cell_type": "code",
   "execution_count": 21,
   "metadata": {
    "collapsed": false
   },
   "outputs": [
    {
     "data": {
      "text/html": [
       "<div>\n",
       "<table border=\"1\" class=\"dataframe\">\n",
       "  <thead>\n",
       "    <tr style=\"text-align: right;\">\n",
       "      <th></th>\n",
       "      <th>feature</th>\n",
       "      <th>p_value</th>\n",
       "      <th>proportion</th>\n",
       "      <th>t_value</th>\n",
       "    </tr>\n",
       "  </thead>\n",
       "  <tbody>\n",
       "    <tr>\n",
       "      <th>186</th>\n",
       "      <td>drink</td>\n",
       "      <td>0.000000e+00</td>\n",
       "      <td>0.058298</td>\n",
       "      <td>308.837991</td>\n",
       "    </tr>\n",
       "    <tr>\n",
       "      <th>8</th>\n",
       "      <td>alcoholic</td>\n",
       "      <td>0.000000e+00</td>\n",
       "      <td>0.045093</td>\n",
       "      <td>265.192820</td>\n",
       "    </tr>\n",
       "    <tr>\n",
       "      <th>277</th>\n",
       "      <td>house &amp; garden</td>\n",
       "      <td>1.978288e-266</td>\n",
       "      <td>0.024382</td>\n",
       "      <td>185.328420</td>\n",
       "    </tr>\n",
       "    <tr>\n",
       "      <th>235</th>\n",
       "      <td>gin</td>\n",
       "      <td>2.890704e-220</td>\n",
       "      <td>0.012273</td>\n",
       "      <td>152.849985</td>\n",
       "    </tr>\n",
       "    <tr>\n",
       "      <th>133</th>\n",
       "      <td>cocktail</td>\n",
       "      <td>9.122826e-156</td>\n",
       "      <td>0.020382</td>\n",
       "      <td>108.046947</td>\n",
       "    </tr>\n",
       "    <tr>\n",
       "      <th>580</th>\n",
       "      <td>spirit</td>\n",
       "      <td>4.395336e-130</td>\n",
       "      <td>0.011835</td>\n",
       "      <td>90.380346</td>\n",
       "    </tr>\n",
       "    <tr>\n",
       "      <th>134</th>\n",
       "      <td>cocktail party</td>\n",
       "      <td>6.951335e-122</td>\n",
       "      <td>0.060216</td>\n",
       "      <td>84.759372</td>\n",
       "    </tr>\n",
       "    <tr>\n",
       "      <th>50</th>\n",
       "      <td>bitters</td>\n",
       "      <td>5.000148e-111</td>\n",
       "      <td>0.006849</td>\n",
       "      <td>77.329406</td>\n",
       "    </tr>\n",
       "    <tr>\n",
       "      <th>57</th>\n",
       "      <td>bon appétit</td>\n",
       "      <td>2.851787e-72</td>\n",
       "      <td>0.474166</td>\n",
       "      <td>50.908072</td>\n",
       "    </tr>\n",
       "    <tr>\n",
       "      <th>262</th>\n",
       "      <td>harpercollins</td>\n",
       "      <td>4.598124e-67</td>\n",
       "      <td>0.006630</td>\n",
       "      <td>47.366386</td>\n",
       "    </tr>\n",
       "    <tr>\n",
       "      <th>333</th>\n",
       "      <td>liqueur</td>\n",
       "      <td>1.465451e-62</td>\n",
       "      <td>0.017040</td>\n",
       "      <td>44.304147</td>\n",
       "    </tr>\n",
       "    <tr>\n",
       "      <th>544</th>\n",
       "      <td>sauté</td>\n",
       "      <td>2.085264e-61</td>\n",
       "      <td>0.105528</td>\n",
       "      <td>43.520032</td>\n",
       "    </tr>\n",
       "    <tr>\n",
       "      <th>32</th>\n",
       "      <td>bake</td>\n",
       "      <td>1.219962e-60</td>\n",
       "      <td>0.225138</td>\n",
       "      <td>42.998382</td>\n",
       "    </tr>\n",
       "    <tr>\n",
       "      <th>240</th>\n",
       "      <td>gourmet</td>\n",
       "      <td>2.036130e-60</td>\n",
       "      <td>0.326010</td>\n",
       "      <td>42.847119</td>\n",
       "    </tr>\n",
       "    <tr>\n",
       "      <th>502</th>\n",
       "      <td>quick &amp; easy</td>\n",
       "      <td>1.216165e-54</td>\n",
       "      <td>0.265903</td>\n",
       "      <td>38.919273</td>\n",
       "    </tr>\n",
       "    <tr>\n",
       "      <th>635</th>\n",
       "      <td>vegetable</td>\n",
       "      <td>1.096679e-42</td>\n",
       "      <td>0.105693</td>\n",
       "      <td>30.782952</td>\n",
       "    </tr>\n",
       "    <tr>\n",
       "      <th>453</th>\n",
       "      <td>peanut free</td>\n",
       "      <td>2.177777e-40</td>\n",
       "      <td>0.421785</td>\n",
       "      <td>29.216846</td>\n",
       "    </tr>\n",
       "    <tr>\n",
       "      <th>526</th>\n",
       "      <td>rum</td>\n",
       "      <td>4.869961e-38</td>\n",
       "      <td>0.017478</td>\n",
       "      <td>27.614412</td>\n",
       "    </tr>\n",
       "    <tr>\n",
       "      <th>574</th>\n",
       "      <td>soy free</td>\n",
       "      <td>5.429781e-38</td>\n",
       "      <td>0.406279</td>\n",
       "      <td>27.582168</td>\n",
       "    </tr>\n",
       "    <tr>\n",
       "      <th>446</th>\n",
       "      <td>pasta</td>\n",
       "      <td>1.663016e-37</td>\n",
       "      <td>0.051449</td>\n",
       "      <td>27.250447</td>\n",
       "    </tr>\n",
       "    <tr>\n",
       "      <th>204</th>\n",
       "      <td>fall</td>\n",
       "      <td>9.847001e-37</td>\n",
       "      <td>0.150731</td>\n",
       "      <td>26.723228</td>\n",
       "    </tr>\n",
       "    <tr>\n",
       "      <th>407</th>\n",
       "      <td>non-alcoholic</td>\n",
       "      <td>1.415552e-35</td>\n",
       "      <td>0.011287</td>\n",
       "      <td>25.932745</td>\n",
       "    </tr>\n",
       "    <tr>\n",
       "      <th>119</th>\n",
       "      <td>chile pepper</td>\n",
       "      <td>2.716396e-35</td>\n",
       "      <td>0.011890</td>\n",
       "      <td>25.739388</td>\n",
       "    </tr>\n",
       "    <tr>\n",
       "      <th>195</th>\n",
       "      <td>egypt</td>\n",
       "      <td>4.656946e-33</td>\n",
       "      <td>0.000055</td>\n",
       "      <td>24.212346</td>\n",
       "    </tr>\n",
       "    <tr>\n",
       "      <th>229</th>\n",
       "      <td>fruit juice</td>\n",
       "      <td>8.419754e-33</td>\n",
       "      <td>0.025040</td>\n",
       "      <td>24.036428</td>\n",
       "    </tr>\n",
       "    <tr>\n",
       "      <th>63</th>\n",
       "      <td>brandy</td>\n",
       "      <td>9.948069e-32</td>\n",
       "      <td>0.013917</td>\n",
       "      <td>23.302607</td>\n",
       "    </tr>\n",
       "    <tr>\n",
       "      <th>143</th>\n",
       "      <td>condiment</td>\n",
       "      <td>1.607891e-29</td>\n",
       "      <td>0.004438</td>\n",
       "      <td>21.789765</td>\n",
       "    </tr>\n",
       "    <tr>\n",
       "      <th>624</th>\n",
       "      <td>tree nut free</td>\n",
       "      <td>4.510678e-27</td>\n",
       "      <td>0.352036</td>\n",
       "      <td>20.109819</td>\n",
       "    </tr>\n",
       "    <tr>\n",
       "      <th>331</th>\n",
       "      <td>lime juice</td>\n",
       "      <td>2.663247e-26</td>\n",
       "      <td>0.006739</td>\n",
       "      <td>19.579819</td>\n",
       "    </tr>\n",
       "    <tr>\n",
       "      <th>458</th>\n",
       "      <td>pernod</td>\n",
       "      <td>4.429987e-24</td>\n",
       "      <td>0.002904</td>\n",
       "      <td>18.050944</td>\n",
       "    </tr>\n",
       "    <tr>\n",
       "      <th>...</th>\n",
       "      <td>...</td>\n",
       "      <td>...</td>\n",
       "      <td>...</td>\n",
       "      <td>...</td>\n",
       "    </tr>\n",
       "    <tr>\n",
       "      <th>142</th>\n",
       "      <td>columbus</td>\n",
       "      <td>9.792412e-01</td>\n",
       "      <td>0.000164</td>\n",
       "      <td>0.226329</td>\n",
       "    </tr>\n",
       "    <tr>\n",
       "      <th>62</th>\n",
       "      <td>bran</td>\n",
       "      <td>9.792412e-01</td>\n",
       "      <td>0.000164</td>\n",
       "      <td>0.226329</td>\n",
       "    </tr>\n",
       "    <tr>\n",
       "      <th>223</th>\n",
       "      <td>freezer food</td>\n",
       "      <td>9.792412e-01</td>\n",
       "      <td>0.000164</td>\n",
       "      <td>0.226329</td>\n",
       "    </tr>\n",
       "    <tr>\n",
       "      <th>630</th>\n",
       "      <td>utah</td>\n",
       "      <td>9.792412e-01</td>\n",
       "      <td>0.000164</td>\n",
       "      <td>0.226329</td>\n",
       "    </tr>\n",
       "    <tr>\n",
       "      <th>667</th>\n",
       "      <td>yuca</td>\n",
       "      <td>9.803989e-01</td>\n",
       "      <td>0.000329</td>\n",
       "      <td>0.221910</td>\n",
       "    </tr>\n",
       "    <tr>\n",
       "      <th>78</th>\n",
       "      <td>buffalo</td>\n",
       "      <td>9.803989e-01</td>\n",
       "      <td>0.000329</td>\n",
       "      <td>0.221910</td>\n",
       "    </tr>\n",
       "    <tr>\n",
       "      <th>309</th>\n",
       "      <td>kiwi</td>\n",
       "      <td>9.810153e-01</td>\n",
       "      <td>0.001863</td>\n",
       "      <td>0.219494</td>\n",
       "    </tr>\n",
       "    <tr>\n",
       "      <th>221</th>\n",
       "      <td>frankenrecipe</td>\n",
       "      <td>9.830353e-01</td>\n",
       "      <td>0.000055</td>\n",
       "      <td>0.211233</td>\n",
       "    </tr>\n",
       "    <tr>\n",
       "      <th>80</th>\n",
       "      <td>bulgaria</td>\n",
       "      <td>9.830353e-01</td>\n",
       "      <td>0.000055</td>\n",
       "      <td>0.211233</td>\n",
       "    </tr>\n",
       "    <tr>\n",
       "      <th>653</th>\n",
       "      <td>westwood</td>\n",
       "      <td>9.830353e-01</td>\n",
       "      <td>0.000055</td>\n",
       "      <td>0.211233</td>\n",
       "    </tr>\n",
       "    <tr>\n",
       "      <th>431</th>\n",
       "      <td>pacific palisades</td>\n",
       "      <td>9.830353e-01</td>\n",
       "      <td>0.000055</td>\n",
       "      <td>0.211233</td>\n",
       "    </tr>\n",
       "    <tr>\n",
       "      <th>652</th>\n",
       "      <td>west virginia</td>\n",
       "      <td>9.830353e-01</td>\n",
       "      <td>0.000055</td>\n",
       "      <td>0.211233</td>\n",
       "    </tr>\n",
       "    <tr>\n",
       "      <th>25</th>\n",
       "      <td>aspen</td>\n",
       "      <td>9.830353e-01</td>\n",
       "      <td>0.000055</td>\n",
       "      <td>0.211233</td>\n",
       "    </tr>\n",
       "    <tr>\n",
       "      <th>279</th>\n",
       "      <td>houston</td>\n",
       "      <td>9.830353e-01</td>\n",
       "      <td>0.000055</td>\n",
       "      <td>0.211233</td>\n",
       "    </tr>\n",
       "    <tr>\n",
       "      <th>659</th>\n",
       "      <td>windsor</td>\n",
       "      <td>9.830353e-01</td>\n",
       "      <td>0.000055</td>\n",
       "      <td>0.211233</td>\n",
       "    </tr>\n",
       "    <tr>\n",
       "      <th>397</th>\n",
       "      <td>new hampshire</td>\n",
       "      <td>9.830353e-01</td>\n",
       "      <td>0.000055</td>\n",
       "      <td>0.211233</td>\n",
       "    </tr>\n",
       "    <tr>\n",
       "      <th>243</th>\n",
       "      <td>grand marnier</td>\n",
       "      <td>9.830353e-01</td>\n",
       "      <td>0.000055</td>\n",
       "      <td>0.211233</td>\n",
       "    </tr>\n",
       "    <tr>\n",
       "      <th>495</th>\n",
       "      <td>providence</td>\n",
       "      <td>9.830353e-01</td>\n",
       "      <td>0.000055</td>\n",
       "      <td>0.211233</td>\n",
       "    </tr>\n",
       "    <tr>\n",
       "      <th>254</th>\n",
       "      <td>guam</td>\n",
       "      <td>9.830353e-01</td>\n",
       "      <td>0.000055</td>\n",
       "      <td>0.211233</td>\n",
       "    </tr>\n",
       "    <tr>\n",
       "      <th>47</th>\n",
       "      <td>beverly hills</td>\n",
       "      <td>9.830353e-01</td>\n",
       "      <td>0.000055</td>\n",
       "      <td>0.211233</td>\n",
       "    </tr>\n",
       "    <tr>\n",
       "      <th>335</th>\n",
       "      <td>london</td>\n",
       "      <td>9.830353e-01</td>\n",
       "      <td>0.000055</td>\n",
       "      <td>0.211233</td>\n",
       "    </tr>\n",
       "    <tr>\n",
       "      <th>199</th>\n",
       "      <td>england</td>\n",
       "      <td>9.830353e-01</td>\n",
       "      <td>0.000055</td>\n",
       "      <td>0.211233</td>\n",
       "    </tr>\n",
       "    <tr>\n",
       "      <th>18</th>\n",
       "      <td>apple juice</td>\n",
       "      <td>9.833866e-01</td>\n",
       "      <td>0.000329</td>\n",
       "      <td>0.209738</td>\n",
       "    </tr>\n",
       "    <tr>\n",
       "      <th>459</th>\n",
       "      <td>persian new year</td>\n",
       "      <td>9.869648e-01</td>\n",
       "      <td>0.000219</td>\n",
       "      <td>0.193280</td>\n",
       "    </tr>\n",
       "    <tr>\n",
       "      <th>373</th>\n",
       "      <td>miami</td>\n",
       "      <td>9.918601e-01</td>\n",
       "      <td>0.000110</td>\n",
       "      <td>0.165424</td>\n",
       "    </tr>\n",
       "    <tr>\n",
       "      <th>290</th>\n",
       "      <td>israel</td>\n",
       "      <td>9.918601e-01</td>\n",
       "      <td>0.000110</td>\n",
       "      <td>0.165424</td>\n",
       "    </tr>\n",
       "    <tr>\n",
       "      <th>283</th>\n",
       "      <td>iced coffee</td>\n",
       "      <td>9.918601e-01</td>\n",
       "      <td>0.000110</td>\n",
       "      <td>0.165424</td>\n",
       "    </tr>\n",
       "    <tr>\n",
       "      <th>182</th>\n",
       "      <td>dominican republic</td>\n",
       "      <td>9.918601e-01</td>\n",
       "      <td>0.000110</td>\n",
       "      <td>0.165424</td>\n",
       "    </tr>\n",
       "    <tr>\n",
       "      <th>378</th>\n",
       "      <td>minneapolis</td>\n",
       "      <td>9.918601e-01</td>\n",
       "      <td>0.000110</td>\n",
       "      <td>0.165424</td>\n",
       "    </tr>\n",
       "    <tr>\n",
       "      <th>363</th>\n",
       "      <td>martini</td>\n",
       "      <td>9.940508e-01</td>\n",
       "      <td>0.000384</td>\n",
       "      <td>0.149422</td>\n",
       "    </tr>\n",
       "  </tbody>\n",
       "</table>\n",
       "<p>674 rows × 4 columns</p>\n",
       "</div>"
      ],
      "text/plain": [
       "                feature        p_value  proportion     t_value\n",
       "186               drink   0.000000e+00    0.058298  308.837991\n",
       "8             alcoholic   0.000000e+00    0.045093  265.192820\n",
       "277      house & garden  1.978288e-266    0.024382  185.328420\n",
       "235                 gin  2.890704e-220    0.012273  152.849985\n",
       "133            cocktail  9.122826e-156    0.020382  108.046947\n",
       "580              spirit  4.395336e-130    0.011835   90.380346\n",
       "134      cocktail party  6.951335e-122    0.060216   84.759372\n",
       "50              bitters  5.000148e-111    0.006849   77.329406\n",
       "57          bon appétit   2.851787e-72    0.474166   50.908072\n",
       "262       harpercollins   4.598124e-67    0.006630   47.366386\n",
       "333             liqueur   1.465451e-62    0.017040   44.304147\n",
       "544               sauté   2.085264e-61    0.105528   43.520032\n",
       "32                 bake   1.219962e-60    0.225138   42.998382\n",
       "240             gourmet   2.036130e-60    0.326010   42.847119\n",
       "502        quick & easy   1.216165e-54    0.265903   38.919273\n",
       "635           vegetable   1.096679e-42    0.105693   30.782952\n",
       "453         peanut free   2.177777e-40    0.421785   29.216846\n",
       "526                 rum   4.869961e-38    0.017478   27.614412\n",
       "574            soy free   5.429781e-38    0.406279   27.582168\n",
       "446               pasta   1.663016e-37    0.051449   27.250447\n",
       "204                fall   9.847001e-37    0.150731   26.723228\n",
       "407       non-alcoholic   1.415552e-35    0.011287   25.932745\n",
       "119        chile pepper   2.716396e-35    0.011890   25.739388\n",
       "195               egypt   4.656946e-33    0.000055   24.212346\n",
       "229         fruit juice   8.419754e-33    0.025040   24.036428\n",
       "63               brandy   9.948069e-32    0.013917   23.302607\n",
       "143           condiment   1.607891e-29    0.004438   21.789765\n",
       "624       tree nut free   4.510678e-27    0.352036   20.109819\n",
       "331          lime juice   2.663247e-26    0.006739   19.579819\n",
       "458              pernod   4.429987e-24    0.002904   18.050944\n",
       "..                  ...            ...         ...         ...\n",
       "142            columbus   9.792412e-01    0.000164    0.226329\n",
       "62                 bran   9.792412e-01    0.000164    0.226329\n",
       "223        freezer food   9.792412e-01    0.000164    0.226329\n",
       "630                utah   9.792412e-01    0.000164    0.226329\n",
       "667                yuca   9.803989e-01    0.000329    0.221910\n",
       "78              buffalo   9.803989e-01    0.000329    0.221910\n",
       "309                kiwi   9.810153e-01    0.001863    0.219494\n",
       "221       frankenrecipe   9.830353e-01    0.000055    0.211233\n",
       "80             bulgaria   9.830353e-01    0.000055    0.211233\n",
       "653            westwood   9.830353e-01    0.000055    0.211233\n",
       "431   pacific palisades   9.830353e-01    0.000055    0.211233\n",
       "652       west virginia   9.830353e-01    0.000055    0.211233\n",
       "25                aspen   9.830353e-01    0.000055    0.211233\n",
       "279             houston   9.830353e-01    0.000055    0.211233\n",
       "659             windsor   9.830353e-01    0.000055    0.211233\n",
       "397       new hampshire   9.830353e-01    0.000055    0.211233\n",
       "243       grand marnier   9.830353e-01    0.000055    0.211233\n",
       "495          providence   9.830353e-01    0.000055    0.211233\n",
       "254                guam   9.830353e-01    0.000055    0.211233\n",
       "47        beverly hills   9.830353e-01    0.000055    0.211233\n",
       "335              london   9.830353e-01    0.000055    0.211233\n",
       "199             england   9.830353e-01    0.000055    0.211233\n",
       "18          apple juice   9.833866e-01    0.000329    0.209738\n",
       "459    persian new year   9.869648e-01    0.000219    0.193280\n",
       "373               miami   9.918601e-01    0.000110    0.165424\n",
       "290              israel   9.918601e-01    0.000110    0.165424\n",
       "283         iced coffee   9.918601e-01    0.000110    0.165424\n",
       "182  dominican republic   9.918601e-01    0.000110    0.165424\n",
       "378         minneapolis   9.918601e-01    0.000110    0.165424\n",
       "363             martini   9.940508e-01    0.000384    0.149422\n",
       "\n",
       "[674 rows x 4 columns]"
      ]
     },
     "execution_count": 21,
     "metadata": {},
     "output_type": "execute_result"
    }
   ],
   "source": [
    "df_setup = {'feature':raw_data.columns[raw_data.columns.isin(df_tags.columns)],\n",
    "            't_value':t_list,\n",
    "            'p_value':p_list, \n",
    "            'proportion':tag_proportion}\n",
    "df_statistics = pd.DataFrame(df_setup)\n",
    "df_statistics.reset_index(inplace=True,drop=True)\n",
    "df_statistics.sort_values('t_value',ascending=False,inplace=True)\n",
    "df_statistics"
   ]
  },
  {
   "cell_type": "code",
   "execution_count": 22,
   "metadata": {
    "collapsed": false
   },
   "outputs": [],
   "source": [
    "feature_set = df_statistics[df_statistics['p_value'] < .05]['feature']\n",
    "\n",
    "X = raw_data[feature_set]\n",
    "Y = raw_data['rating']"
   ]
  },
  {
   "cell_type": "code",
   "execution_count": 23,
   "metadata": {
    "collapsed": false
   },
   "outputs": [],
   "source": [
    "# cross_val_score(svr, X, Y, cv=5)"
   ]
  },
  {
   "cell_type": "markdown",
   "metadata": {},
   "source": [
    "# I made a terrible model less terrible\n",
    "\n",
    "Now to convert to a classifier"
   ]
  },
  {
   "cell_type": "code",
   "execution_count": 30,
   "metadata": {
    "collapsed": false
   },
   "outputs": [],
   "source": [
    "# Make rating binary\n",
    "\n",
    "raw_data['rating_high'] = np.where(raw_data['rating'] > 4, 1, 0)"
   ]
  },
  {
   "cell_type": "code",
   "execution_count": 31,
   "metadata": {
    "collapsed": true
   },
   "outputs": [],
   "source": [
    "from sklearn.svm import SVC\n",
    "svc = SVC()"
   ]
  },
  {
   "cell_type": "code",
   "execution_count": 32,
   "metadata": {
    "collapsed": false
   },
   "outputs": [
    {
     "name": "stdout",
     "output_type": "stream",
     "text": [
      "[ 0.58307313  0.59115568  0.59542989]\n",
      "0.589886232327\n"
     ]
    }
   ],
   "source": [
    "X = raw_data[feature_set]\n",
    "y = raw_data['rating_high']\n",
    "\n",
    "scre = cross_val_score(svc, X, y)\n",
    "print (scre)\n",
    "print (scre.mean())"
   ]
  }
 ],
 "metadata": {
  "hide_input": false,
  "kernelspec": {
   "display_name": "Python 3",
   "language": "python",
   "name": "python3"
  },
  "language_info": {
   "codemirror_mode": {
    "name": "ipython",
    "version": 3
   },
   "file_extension": ".py",
   "mimetype": "text/x-python",
   "name": "python",
   "nbconvert_exporter": "python",
   "pygments_lexer": "ipython3",
   "version": "3.6.0"
  },
  "toc": {
   "colors": {
    "hover_highlight": "#DAA520",
    "running_highlight": "#FF0000",
    "selected_highlight": "#FFD700"
   },
   "moveMenuLeft": true,
   "nav_menu": {
    "height": "12px",
    "width": "252px"
   },
   "navigate_menu": true,
   "number_sections": true,
   "sideBar": true,
   "threshold": 4,
   "toc_cell": false,
   "toc_section_display": "block",
   "toc_window_display": false
  }
 },
 "nbformat": 4,
 "nbformat_minor": 2
}
