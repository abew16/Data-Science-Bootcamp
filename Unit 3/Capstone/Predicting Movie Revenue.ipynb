{
 "cells": [
  {
   "cell_type": "markdown",
   "metadata": {},
   "source": [
    "# Predicting Movie Revenue\n",
    "\n",
    "## Features  \n",
    "\n",
    "**Variable to Predict:** Revenue\n",
    "\n",
    "\n",
    "- Budget  \n",
    "- Runtime  \n",
    "- Genre  \n",
    "- Release Date  \n",
    " - Season  \n",
    " - Holiday   \n",
    "- Production Companies  \n",
    " - Number of companies involved  \n",
    " - Number of movies a company has made (previously)  \n",
    "- Crew\n",
    " - Number of crewmembers  \n",
    "- Cast\n",
    " - Gender Ratio for top 2/5/10/25\n",
    " - Number of previous movies top 10 cast have been in\n",
    "- Collection\n",
    " - Is sequel (order)  \n"
   ]
  },
  {
   "cell_type": "code",
   "execution_count": 1,
   "metadata": {
    "collapsed": true
   },
   "outputs": [],
   "source": [
    "import numpy as np\n",
    "import pandas as pd\n",
    "import sqlite3\n",
    "import holidays\n",
    "import matplotlib.pyplot as plt\n",
    "import seaborn as sns\n",
    "from datetime import timedelta, date\n",
    "from scipy import stats\n",
    "\n",
    "pd.set_option('display.float_format','{:,.2f}'.format)"
   ]
  },
  {
   "cell_type": "code",
   "execution_count": 2,
   "metadata": {
    "collapsed": true
   },
   "outputs": [],
   "source": [
    "df = pd.read_csv(r'../../../Data Science Data/Unit 3/movie_data.csv')"
   ]
  },
  {
   "cell_type": "code",
   "execution_count": 3,
   "metadata": {
    "collapsed": true,
    "scrolled": true
   },
   "outputs": [],
   "source": [
    "df['complete_budget'] = df['budget'].replace(0,np.nan).fillna(df['imdb_budget'])\n",
    "df['complete_revenue'] = df['revenue'].replace(0,np.nan).fillna(df['imdb_revenue'])\n",
    "\n",
    "df['complete_budget'] = pd.to_numeric(df['complete_budget'],errors='coerce',downcast='integer')\n",
    "df['complete_revenue'] = pd.to_numeric(df['complete_revenue'],errors='coerce',downcast='integer')\n",
    "\n",
    "df['runtime'] = pd.to_numeric(df['runtime'],downcast='integer')\n",
    "df['gender'] = pd.to_numeric(df['gender'],downcast='integer')"
   ]
  },
  {
   "cell_type": "code",
   "execution_count": 4,
   "metadata": {
    "collapsed": true
   },
   "outputs": [],
   "source": [
    "df['is_sequel'] = df['order_in_collection'] > 1\n",
    "df['profit'] = df['complete_revenue'] - df['complete_budget']\n",
    "df['ROI'] = df['profit'] / df['complete_budget']\n",
    "df['gross_margin'] = df['complete_revenue'] / df['complete_budget']\n",
    "df['log_revenue'] = df['complete_revenue'].apply(np.log)\n",
    "df['log_budget'] = df['complete_budget'].apply(np.log)"
   ]
  },
  {
   "cell_type": "code",
   "execution_count": 5,
   "metadata": {},
   "outputs": [
    {
     "ename": "AttributeError",
     "evalue": "Can only use .dt accessor with datetimelike values",
     "output_type": "error",
     "traceback": [
      "\u001b[1;31m---------------------------------------------------------------------------\u001b[0m",
      "\u001b[1;31mTypeError\u001b[0m                                 Traceback (most recent call last)",
      "\u001b[1;32m~\\AppData\\Local\\Continuum\\anaconda3\\lib\\site-packages\\pandas\\core\\series.py\u001b[0m in \u001b[0;36m_make_dt_accessor\u001b[1;34m(self)\u001b[0m\n\u001b[0;32m   2819\u001b[0m         \u001b[1;32mtry\u001b[0m\u001b[1;33m:\u001b[0m\u001b[1;33m\u001b[0m\u001b[0m\n\u001b[1;32m-> 2820\u001b[1;33m             \u001b[1;32mreturn\u001b[0m \u001b[0mmaybe_to_datetimelike\u001b[0m\u001b[1;33m(\u001b[0m\u001b[0mself\u001b[0m\u001b[1;33m)\u001b[0m\u001b[1;33m\u001b[0m\u001b[0m\n\u001b[0m\u001b[0;32m   2821\u001b[0m         \u001b[1;32mexcept\u001b[0m \u001b[0mException\u001b[0m\u001b[1;33m:\u001b[0m\u001b[1;33m\u001b[0m\u001b[0m\n",
      "\u001b[1;32m~\\AppData\\Local\\Continuum\\anaconda3\\lib\\site-packages\\pandas\\core\\indexes\\accessors.py\u001b[0m in \u001b[0;36mmaybe_to_datetimelike\u001b[1;34m(data, copy)\u001b[0m\n\u001b[0;32m     83\u001b[0m     raise TypeError(\"cannot convert an object of type {0} to a \"\n\u001b[1;32m---> 84\u001b[1;33m                     \"datetimelike index\".format(type(data)))\n\u001b[0m\u001b[0;32m     85\u001b[0m \u001b[1;33m\u001b[0m\u001b[0m\n",
      "\u001b[1;31mTypeError\u001b[0m: cannot convert an object of type <class 'pandas.core.series.Series'> to a datetimelike index",
      "\nDuring handling of the above exception, another exception occurred:\n",
      "\u001b[1;31mAttributeError\u001b[0m                            Traceback (most recent call last)",
      "\u001b[1;32m<ipython-input-5-2b74bd2e6f6b>\u001b[0m in \u001b[0;36m<module>\u001b[1;34m()\u001b[0m\n\u001b[0;32m      2\u001b[0m \u001b[0mdf\u001b[0m\u001b[1;33m.\u001b[0m\u001b[0mdrop\u001b[0m\u001b[1;33m(\u001b[0m\u001b[0mcols_to_drop\u001b[0m\u001b[1;33m,\u001b[0m\u001b[0maxis\u001b[0m\u001b[1;33m=\u001b[0m\u001b[1;36m1\u001b[0m\u001b[1;33m,\u001b[0m\u001b[0minplace\u001b[0m\u001b[1;33m=\u001b[0m\u001b[1;32mTrue\u001b[0m\u001b[1;33m)\u001b[0m\u001b[1;33m\u001b[0m\u001b[0m\n\u001b[0;32m      3\u001b[0m \u001b[0mdf\u001b[0m\u001b[1;33m.\u001b[0m\u001b[0mdropna\u001b[0m\u001b[1;33m(\u001b[0m\u001b[0minplace\u001b[0m\u001b[1;33m=\u001b[0m\u001b[1;32mTrue\u001b[0m\u001b[1;33m)\u001b[0m\u001b[1;33m\u001b[0m\u001b[0m\n\u001b[1;32m----> 4\u001b[1;33m \u001b[0mdf\u001b[0m\u001b[1;33m.\u001b[0m\u001b[0mdrop\u001b[0m\u001b[1;33m(\u001b[0m\u001b[0mdf\u001b[0m\u001b[1;33m[\u001b[0m\u001b[0mdf\u001b[0m\u001b[1;33m[\u001b[0m\u001b[1;34m'release_date'\u001b[0m\u001b[1;33m]\u001b[0m\u001b[1;33m.\u001b[0m\u001b[0mdt\u001b[0m\u001b[1;33m.\u001b[0m\u001b[0myear\u001b[0m \u001b[1;33m<\u001b[0m \u001b[1;36m1965\u001b[0m\u001b[1;33m]\u001b[0m\u001b[1;33m.\u001b[0m\u001b[0mindex\u001b[0m\u001b[1;33m,\u001b[0m\u001b[0minplace\u001b[0m\u001b[1;33m=\u001b[0m\u001b[1;32mTrue\u001b[0m\u001b[1;33m)\u001b[0m\u001b[1;33m\u001b[0m\u001b[0m\n\u001b[0m\u001b[0;32m      5\u001b[0m \u001b[0mdf\u001b[0m\u001b[1;33m.\u001b[0m\u001b[0minfo\u001b[0m\u001b[1;33m(\u001b[0m\u001b[1;33m)\u001b[0m\u001b[1;33m;\u001b[0m\u001b[1;33m\u001b[0m\u001b[0m\n",
      "\u001b[1;32m~\\AppData\\Local\\Continuum\\anaconda3\\lib\\site-packages\\pandas\\core\\generic.py\u001b[0m in \u001b[0;36m__getattr__\u001b[1;34m(self, name)\u001b[0m\n\u001b[0;32m   3075\u001b[0m         if (name in self._internal_names_set or name in self._metadata or\n\u001b[0;32m   3076\u001b[0m                 name in self._accessors):\n\u001b[1;32m-> 3077\u001b[1;33m             \u001b[1;32mreturn\u001b[0m \u001b[0mobject\u001b[0m\u001b[1;33m.\u001b[0m\u001b[0m__getattribute__\u001b[0m\u001b[1;33m(\u001b[0m\u001b[0mself\u001b[0m\u001b[1;33m,\u001b[0m \u001b[0mname\u001b[0m\u001b[1;33m)\u001b[0m\u001b[1;33m\u001b[0m\u001b[0m\n\u001b[0m\u001b[0;32m   3078\u001b[0m         \u001b[1;32melse\u001b[0m\u001b[1;33m:\u001b[0m\u001b[1;33m\u001b[0m\u001b[0m\n\u001b[0;32m   3079\u001b[0m             \u001b[1;32mif\u001b[0m \u001b[0mname\u001b[0m \u001b[1;32min\u001b[0m \u001b[0mself\u001b[0m\u001b[1;33m.\u001b[0m\u001b[0m_info_axis\u001b[0m\u001b[1;33m:\u001b[0m\u001b[1;33m\u001b[0m\u001b[0m\n",
      "\u001b[1;32m~\\AppData\\Local\\Continuum\\anaconda3\\lib\\site-packages\\pandas\\core\\base.py\u001b[0m in \u001b[0;36m__get__\u001b[1;34m(self, instance, owner)\u001b[0m\n\u001b[0;32m    241\u001b[0m             \u001b[1;31m# this ensures that Series.str.<method> is well defined\u001b[0m\u001b[1;33m\u001b[0m\u001b[1;33m\u001b[0m\u001b[0m\n\u001b[0;32m    242\u001b[0m             \u001b[1;32mreturn\u001b[0m \u001b[0mself\u001b[0m\u001b[1;33m.\u001b[0m\u001b[0maccessor_cls\u001b[0m\u001b[1;33m\u001b[0m\u001b[0m\n\u001b[1;32m--> 243\u001b[1;33m         \u001b[1;32mreturn\u001b[0m \u001b[0mself\u001b[0m\u001b[1;33m.\u001b[0m\u001b[0mconstruct_accessor\u001b[0m\u001b[1;33m(\u001b[0m\u001b[0minstance\u001b[0m\u001b[1;33m)\u001b[0m\u001b[1;33m\u001b[0m\u001b[0m\n\u001b[0m\u001b[0;32m    244\u001b[0m \u001b[1;33m\u001b[0m\u001b[0m\n\u001b[0;32m    245\u001b[0m     \u001b[1;32mdef\u001b[0m \u001b[0m__set__\u001b[0m\u001b[1;33m(\u001b[0m\u001b[0mself\u001b[0m\u001b[1;33m,\u001b[0m \u001b[0minstance\u001b[0m\u001b[1;33m,\u001b[0m \u001b[0mvalue\u001b[0m\u001b[1;33m)\u001b[0m\u001b[1;33m:\u001b[0m\u001b[1;33m\u001b[0m\u001b[0m\n",
      "\u001b[1;32m~\\AppData\\Local\\Continuum\\anaconda3\\lib\\site-packages\\pandas\\core\\series.py\u001b[0m in \u001b[0;36m_make_dt_accessor\u001b[1;34m(self)\u001b[0m\n\u001b[0;32m   2820\u001b[0m             \u001b[1;32mreturn\u001b[0m \u001b[0mmaybe_to_datetimelike\u001b[0m\u001b[1;33m(\u001b[0m\u001b[0mself\u001b[0m\u001b[1;33m)\u001b[0m\u001b[1;33m\u001b[0m\u001b[0m\n\u001b[0;32m   2821\u001b[0m         \u001b[1;32mexcept\u001b[0m \u001b[0mException\u001b[0m\u001b[1;33m:\u001b[0m\u001b[1;33m\u001b[0m\u001b[0m\n\u001b[1;32m-> 2822\u001b[1;33m             raise AttributeError(\"Can only use .dt accessor with datetimelike \"\n\u001b[0m\u001b[0;32m   2823\u001b[0m                                  \"values\")\n\u001b[0;32m   2824\u001b[0m \u001b[1;33m\u001b[0m\u001b[0m\n",
      "\u001b[1;31mAttributeError\u001b[0m: Can only use .dt accessor with datetimelike values"
     ]
    }
   ],
   "source": [
    "cols_to_drop = ['budget','revenue','imdb_budget','imdb_revenue','collection','order_in_collection']\n",
    "df.drop(cols_to_drop,axis=1,inplace=True)\n",
    "df.dropna(inplace=True)\n",
    "df.drop(df[df['release_date'].dt.year < 1965].index,inplace=True)\n",
    "df.info();"
   ]
  },
  {
   "cell_type": "code",
   "execution_count": null,
   "metadata": {},
   "outputs": [],
   "source": [
    "# Top 10 box office grossing movies\n",
    "df.sort_values('complete_revenue',ascending=False,inplace=True)\n",
    "df.head(n=10)"
   ]
  },
  {
   "cell_type": "code",
   "execution_count": null,
   "metadata": {
    "collapsed": true
   },
   "outputs": [],
   "source": [
    "# The Hobbit animated movie?? Really? Let's remove... \n",
    "df.drop(df[df['title'] == 'The Hobbit'].index, inplace=True)"
   ]
  },
  {
   "cell_type": "code",
   "execution_count": null,
   "metadata": {},
   "outputs": [],
   "source": [
    "# Look at the lowest quantile to check for outliers\n",
    "df[df['complete_revenue'] < df['complete_revenue'].quantile(q=.0075)]\n",
    "\n",
    "# Notes\n",
    "# Trojan War: Only released in one theater in the US over one weekend. Not a good representation of what we are trying to predict\n",
    "# Sunrise: Foreign movie released in theaters in the US 2 years after originally released in France\n",
    "# Skin Trade: Terrible movie that starred Dolph Lungren. With the exception of Rocky, his movies have been terrible. Something to model in the future?\n",
    "# Next Time I'll Aim for the Heart: French movie. Grossed 4mil Euros, but did very little in the USA. "
   ]
  },
  {
   "cell_type": "code",
   "execution_count": null,
   "metadata": {},
   "outputs": [],
   "source": [
    "# Remove movies with a budget less than 100,000\n",
    "df.drop(df[df['complete_budget'] < 100000].index,inplace=True)\n",
    "\n",
    "upper_quantile_rev = df['complete_revenue'].quantile(q=.9)\n",
    "bottom_quantile_rev = df['complete_revenue'].quantile(q=.1)\n",
    "df.drop(df[df['complete_revenue'] < bottom_quantile_rev].index,inplace=True)\n",
    "df.drop(df[df['complete_revenue'] > upper_quantile_rev].index,inplace=True)\n",
    "\n",
    "df.describe()"
   ]
  },
  {
   "cell_type": "code",
   "execution_count": null,
   "metadata": {},
   "outputs": [],
   "source": [
    "sns.boxplot(x=df['complete_revenue'])\n",
    "plt.xlim(0,500000000)\n",
    "plt.show()"
   ]
  },
  {
   "cell_type": "code",
   "execution_count": null,
   "metadata": {},
   "outputs": [],
   "source": [
    "sns.regplot(y=df['complete_revenue'],x=df['complete_budget'])\n",
    "plt.show() \n",
    "\n",
    "sns.regplot(y=df['ROI'],x=df['complete_budget'])\n",
    "plt.show()"
   ]
  },
  {
   "cell_type": "code",
   "execution_count": null,
   "metadata": {},
   "outputs": [],
   "source": [
    "g = sns.FacetGrid(df[['is_holiday','complete_revenue','complete_budget']],row='is_holiday')\n",
    "g.map(sns.boxplot, 'complete_revenue')\n",
    "plt.show()\n",
    "\n",
    "stats.kruskal(df[df['is_holiday'] == True]['complete_revenue'], df[df['is_holiday'] == False]['complete_revenue'])"
   ]
  },
  {
   "cell_type": "code",
   "execution_count": null,
   "metadata": {},
   "outputs": [],
   "source": [
    "genres = list(genre_df.groupby('genre_name').count().index)\n",
    "\n",
    "genre_count = {}\n",
    "\n",
    "for genre in genres:\n",
    "    genre_count[genre] = df[df[genre] == 1]['complete_revenue'].count()\n",
    "\n",
    "genre_list = [key for key,values in genre_count.items() if values > 200]\n",
    "\n",
    "genre_mean = {}\n",
    "genre_ROI = {}\n",
    "\n",
    "for genre in genre_list:\n",
    "    genre_mean[genre] = df[df[genre] == 1]['complete_revenue'].mean()\n",
    "    genre_ROI[genre] = df[df[genre] == 1]['ROI'].mean()\n",
    "    \n",
    "sns.barplot(x=list(genre_mean.keys()),y=[value for value in genre_mean.values()])\n",
    "plt.title('Revenue by Genre')\n",
    "plt.xticks(rotation=33, horizontalalignment='right')\n",
    "plt.show()\n",
    "\n",
    "sns.barplot(x=list(genre_mean.keys()),y=[value for value in genre_ROI.values()])\n",
    "plt.title('ROI by Genre')\n",
    "plt.xticks(rotation=33, horizontalalignment='right')\n",
    "plt.show()"
   ]
  },
  {
   "cell_type": "code",
   "execution_count": null,
   "metadata": {},
   "outputs": [],
   "source": [
    "sns.distplot(df['gender'])\n",
    "plt.show()\n",
    "\n",
    "sns.distplot(df['movies_produced'])\n",
    "plt.show()"
   ]
  },
  {
   "cell_type": "code",
   "execution_count": null,
   "metadata": {},
   "outputs": [],
   "source": [
    "cols = ['runtime','prod_company_count','crewmember_count','gender','movie_experience','movies_produced','complete_budget','complete_revenue']\n",
    "\n",
    "g = sns.PairGrid(df[cols], diag_sharey=False)\n",
    "g.map_upper(plt.scatter)\n",
    "g.map_lower(sns.regplot)\n",
    "g.map_diag(sns.kdeplot)\n",
    "\n",
    "plt.show()"
   ]
  },
  {
   "cell_type": "code",
   "execution_count": null,
   "metadata": {},
   "outputs": [],
   "source": [
    "df.corr()[['complete_revenue','complete_budget','ROI','gross_margin']]"
   ]
  },
  {
   "cell_type": "code",
   "execution_count": null,
   "metadata": {
    "collapsed": true
   },
   "outputs": [],
   "source": [
    "drop_genres = set(genres) - set(genre_list)\n",
    "\n",
    "model_data = df.drop(list(drop_genres),axis=1)\n",
    "model_data = model_data.drop(['profit','ROI','release_date','title','log_revenue','gross_margin'],axis=1)"
   ]
  },
  {
   "cell_type": "code",
   "execution_count": null,
   "metadata": {},
   "outputs": [],
   "source": [
    "df_dum = pd.get_dummies(model_data)\n",
    "\n",
    "x = df_dum.loc[:,df_dum.columns != 'complete_revenue']\n",
    "y = df_dum['complete_revenue']\n",
    "\n",
    "x_train = x.sample(frac=.8, random_state=30)\n",
    "y_train = y[x_train.index]\n",
    "\n",
    "x_test = x.drop(x_train.index)\n",
    "y_test = y.drop(y_train.index)\n",
    "\n",
    "x.columns"
   ]
  },
  {
   "cell_type": "code",
   "execution_count": null,
   "metadata": {},
   "outputs": [],
   "source": [
    "from sklearn.tree import DecisionTreeRegressor\n",
    "from sklearn.model_selection import cross_val_score\n",
    "from sklearn.metrics import median_absolute_error\n",
    "\n",
    "\n",
    "dt = DecisionTreeRegressor(max_depth=10,max_features=None)\n",
    "\n",
    "dt.fit(x_train,y_train)\n",
    "y_predict = dt.predict(x_test)\n",
    "dt.score(x_train,y_train)"
   ]
  },
  {
   "cell_type": "code",
   "execution_count": null,
   "metadata": {},
   "outputs": [],
   "source": [
    "percent_error = (y_predict - y_test) / y_test\n",
    "plt.hist(percent_error, bins=np.arange(-10,10,1))\n",
    "plt.show()\n",
    "\n",
    "np.mean((percent_error < .1) & (percent_error > -.1))"
   ]
  },
  {
   "cell_type": "code",
   "execution_count": null,
   "metadata": {},
   "outputs": [],
   "source": [
    "x_test['y_actual'] = y_test\n",
    "x_test['y_predict'] = y_predict\n",
    "x_test['y_delta'] = (y_predict - y_test) / y_test\n",
    "x_test.sort_values('y_delta', ascending=True);"
   ]
  },
  {
   "cell_type": "code",
   "execution_count": null,
   "metadata": {},
   "outputs": [],
   "source": [
    "df_dum = pd.get_dummies(model_data)\n",
    "\n",
    "x = df_dum.loc[:,df_dum.columns != 'complete_revenue']\n",
    "y = df_dum['complete_revenue']\n",
    "\n",
    "x_train = x.sample(frac=.8, random_state=30)\n",
    "y_train = y[x_train.index]\n",
    "\n",
    "x_test = x.drop(x_train.index)\n",
    "y_test = y.drop(y_train.index)\n",
    "\n",
    "x.columns"
   ]
  },
  {
   "cell_type": "code",
   "execution_count": null,
   "metadata": {},
   "outputs": [],
   "source": [
    "from sklearn.ensemble import RandomForestRegressor\n",
    "\n",
    "rf = RandomForestRegressor(max_depth=12,max_features=None)\n",
    "\n",
    "rf.fit(x_train,y_train)\n",
    "y_predict = dt.predict(x_test)\n",
    "rf.score(x_train,y_train)"
   ]
  },
  {
   "cell_type": "code",
   "execution_count": null,
   "metadata": {},
   "outputs": [],
   "source": [
    "percent_error = (y_predict - y_test) / y_test\n",
    "plt.hist(percent_error, bins=np.arange(-10,10,1))\n",
    "plt.show()\n",
    "\n",
    "np.mean((percent_error < .1) & (percent_error > -.1))"
   ]
  },
  {
   "cell_type": "code",
   "execution_count": null,
   "metadata": {},
   "outputs": [],
   "source": [
    "x_test['y_actual'] = y_test\n",
    "x_test['y_predict'] = y_predict\n",
    "x_test['y_delta'] = (y_predict - y_test) / y_test\n",
    "x_test.sort_values('y_delta', ascending=True);"
   ]
  },
  {
   "cell_type": "code",
   "execution_count": null,
   "metadata": {},
   "outputs": [],
   "source": [
    "accurate_range = x_test.loc[(x_test['y_delta'] > -.1) & (x_test['y_delta'] < .1)]\n",
    "accurate_range = accurate_range.join(df[['title','release_date']])\n",
    "\n",
    "for column in accurate_range.columns:\n",
    "    print(column)\n",
    "    print(accurate_range[column].describe())\n",
    "    print('-'*100)"
   ]
  },
  {
   "cell_type": "code",
   "execution_count": null,
   "metadata": {},
   "outputs": [],
   "source": [
    "accurate_range.groupby(accurate_range['release_date'].dt.year).count()"
   ]
  },
  {
   "cell_type": "code",
   "execution_count": null,
   "metadata": {},
   "outputs": [],
   "source": [
    "genre_p = accurate_range[genre_list].sum() / accurate_range.shape[0]\n",
    "genre_t = df[genre_list].sum() / df.shape[0]\n",
    "\n",
    "pd.concat([genre_p,genre_t], axis=1)"
   ]
  },
  {
   "cell_type": "code",
   "execution_count": null,
   "metadata": {},
   "outputs": [],
   "source": [
    "drop_genres = set(genres) - set(genre_list)\n",
    "\n",
    "model_data = df.drop(list(drop_genres),axis=1)\n",
    "model_data.drop(['profit','ROI','title','log_revenue','gross_margin'],axis=1,inplace=True)\n",
    "model_data.drop(model_data[model_data['release_date'].dt.year < 1998].index,inplace=True)\n",
    "model_data.drop('release_date',axis=1,inplace=True)"
   ]
  },
  {
   "cell_type": "code",
   "execution_count": null,
   "metadata": {},
   "outputs": [],
   "source": [
    "df_dum = pd.get_dummies(model_data)\n",
    "\n",
    "df_dum\n",
    "\n",
    "x = df_dum.loc[:,df_dum.columns != 'complete_revenue']\n",
    "y = df_dum['complete_revenue']\n",
    "\n",
    "x_train = x.sample(frac=.8, random_state=30)\n",
    "y_train = y[x_train.index]\n",
    "\n",
    "x_test = x.drop(x_train.index)\n",
    "y_test = y.drop(y_train.index)\n",
    "\n",
    "x.columns"
   ]
  },
  {
   "cell_type": "code",
   "execution_count": null,
   "metadata": {},
   "outputs": [],
   "source": [
    "rf.fit(x_train,y_train)\n",
    "y_predict = dt.predict(x_test)\n",
    "rf.score(x_train,y_train)"
   ]
  },
  {
   "cell_type": "code",
   "execution_count": null,
   "metadata": {},
   "outputs": [],
   "source": [
    "percent_error = (y_predict - y_test) / y_test\n",
    "plt.hist(percent_error, bins=np.arange(-10,10,1))\n",
    "plt.show()\n",
    "\n",
    "np.mean((percent_error < .1) & (percent_error > -.1))"
   ]
  },
  {
   "cell_type": "markdown",
   "metadata": {},
   "source": [
    "- Try tpot\n",
    "- Look at feature importance\n",
    "- What movies is this model good at predicting\n",
    " - Group by genre, group by decade etc...\n",
    "- Separate categorical variables and then try PCA\n",
    "- Predicting based on decade\n",
    "- Visualizations around the accuracy. X is actual revenue and y is predicted with a straight line to see the difference. Look at log as well. Create a function which does this."
   ]
  }
 ],
 "metadata": {
  "kernelspec": {
   "display_name": "Python 3",
   "language": "python",
   "name": "python3"
  },
  "language_info": {
   "codemirror_mode": {
    "name": "ipython",
    "version": 3
   },
   "file_extension": ".py",
   "mimetype": "text/x-python",
   "name": "python",
   "nbconvert_exporter": "python",
   "pygments_lexer": "ipython3",
   "version": "3.6.3"
  }
 },
 "nbformat": 4,
 "nbformat_minor": 2
}
