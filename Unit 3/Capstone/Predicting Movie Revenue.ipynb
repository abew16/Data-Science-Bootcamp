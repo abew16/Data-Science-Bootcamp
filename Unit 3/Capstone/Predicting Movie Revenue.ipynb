{
 "cells": [
  {
   "cell_type": "markdown",
   "metadata": {},
   "source": [
    "# Predicting Movie Revenue\n",
    "\n",
    "## Features  \n",
    "\n",
    "**Variable to Predict:** Revenue\n",
    "\n",
    "**Features**\n",
    "- Budget  \n",
    "- Runtime  \n",
    "- Genre  \n",
    "- Release Date  \n",
    " - Season  \n",
    " - Holiday   \n",
    "- Production Companies  \n",
    " - # of companies involved \n",
    " - # of movies a company has made  \n",
    "- Crew\n",
    " - # of crewmembers  \n",
    " - Past awards for directors  \n",
    "- Cast\n",
    " - Gender Ratio for top 10/25\n",
    " - # of previous movies top 10 cast have been in\n",
    " - Past awards for actors\n",
    "- Collection\n",
    " - Is sequel  \n",
    " - *Remake*  \n",
    " - *Book adaptation*  \n",
    " - *TV show adaptation*  \n"
   ]
  },
  {
   "cell_type": "code",
   "execution_count": null,
   "metadata": {
    "collapsed": true
   },
   "outputs": [],
   "source": []
  }
 ],
 "metadata": {
  "kernelspec": {
   "display_name": "Python 3",
   "language": "python",
   "name": "python3"
  },
  "language_info": {
   "codemirror_mode": {
    "name": "ipython",
    "version": 3
   },
   "file_extension": ".py",
   "mimetype": "text/x-python",
   "name": "python",
   "nbconvert_exporter": "python",
   "pygments_lexer": "ipython3",
   "version": "3.6.1"
  }
 },
 "nbformat": 4,
 "nbformat_minor": 2
}
