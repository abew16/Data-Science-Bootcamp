{
 "cells": [
  {
   "cell_type": "markdown",
   "metadata": {},
   "source": [
    "# Predicting Movie Revenue\n",
    "\n",
    "## Features  \n",
    "\n",
    "**Variable to Predict:** Revenue\n",
    "\n",
    "\n",
    "- Budget  \n",
    "- Runtime  \n",
    "- Genre  \n",
    "- Release Date  \n",
    " - Season  \n",
    " - Holiday   \n",
    "- Production Companies  \n",
    " - Number of companies involved  \n",
    " - Number of movies a company has made  \n",
    "- Crew\n",
    " - Number of crewmembers  \n",
    "- Cast\n",
    " - Gender Ratio for top 10/25\n",
    " - Number of previous movies top 10 cast have been in\n",
    "- Collection\n",
    " - Is sequel  \n"
   ]
  },
  {
   "cell_type": "code",
   "execution_count": null,
   "metadata": {
    "collapsed": true
   },
   "outputs": [],
   "source": []
  }
 ],
 "metadata": {
  "kernelspec": {
   "display_name": "Python 3",
   "language": "python",
   "name": "python3"
  },
  "language_info": {
   "codemirror_mode": {
    "name": "ipython",
    "version": 3
   },
   "file_extension": ".py",
   "mimetype": "text/x-python",
   "name": "python",
   "nbconvert_exporter": "python",
   "pygments_lexer": "ipython3",
   "version": "3.6.1"
  }
 },
 "nbformat": 4,
 "nbformat_minor": 2
}
