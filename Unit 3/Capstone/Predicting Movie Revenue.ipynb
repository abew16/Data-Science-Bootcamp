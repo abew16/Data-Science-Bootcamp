{
 "cells": [
  {
   "cell_type": "markdown",
   "metadata": {},
   "source": [
    "# Predicting Movie Revenue\n",
    "\n",
    "## Features  \n",
    "\n",
    "**Variable to Predict:** Revenue\n",
    "\n",
    "\n",
    "- Budget  \n",
    "- Runtime  \n",
    "- Genre  \n",
    "- Release Date  \n",
    " - Season  \n",
    " - Holiday   \n",
    "- Production Companies  \n",
    " - Number of companies involved  \n",
    " - Number of movies a company has made (previously)  \n",
    "   - Histogram of how often top 10% of production companies make movies\n",
    "- Crew\n",
    " - Number of crewmembers  \n",
    "- Cast\n",
    " - Gender Ratio for top 2/5/10/25\n",
    " - Number of previous movies top 10 cast have been in\n",
    "- Collection\n",
    " - Is sequel (order)  \n"
   ]
  },
  {
   "cell_type": "code",
   "execution_count": 1,
   "metadata": {
    "collapsed": true
   },
   "outputs": [],
   "source": [
    "import pandas as pd\n",
    "import sqlite3\n",
    "import holidays"
   ]
  },
  {
   "cell_type": "code",
   "execution_count": 2,
   "metadata": {
    "collapsed": true
   },
   "outputs": [],
   "source": [
    "db = sqlite3.connect(r'../../../Data Science Data/Unit 3/db.sqlite')"
   ]
  },
  {
   "cell_type": "code",
   "execution_count": 3,
   "metadata": {
    "collapsed": true
   },
   "outputs": [],
   "source": [
    "## SQL import statements to create dataframes\n",
    "\n",
    "# Base dataframe to join other onto\n",
    "base_df = pd.read_sql(\"\"\"SELECT movie_id, budget, release_date, revenue, runtime, imdb_budget, imdb_revenue, title, collection \n",
    "                         FROM movies \n",
    "                         WHERE (budget > 0 OR imdb_budget > 0) AND (revenue > 0 OR imdb_revenue > 0)\n",
    "                      \"\"\", db, index_col='movie_id', parse_dates=['release_date'])\n",
    "base_df.index = base_df.index.map(int)\n",
    "\n",
    "# Pull in genre table to create dummy variables\n",
    "genre_df = pd.read_sql(\"\"\"SELECT * FROM genres\"\"\", db)\n",
    "\n",
    "# Create series for number of production companies associated with each movie_id\n",
    "number_of_prod_companies = pd.read_sql(\"\"\"SELECT movie_id, COUNT(company_name) AS prod_company_count\n",
    "                                          FROM production_companies\n",
    "                                          GROUP BY movie_id\n",
    "                                          \"\"\", db, index_col='movie_id')\n",
    "number_of_prod_companies.index = number_of_prod_companies.index.map(int)\n",
    "\n",
    "production_companies = pd.read_sql(\"\"\"\n",
    "    SELECT *\n",
    "    FROM production_companies\n",
    "    \"\"\", db)\n",
    "production_companies['movie_id'] = production_companies['movie_id'].map(int)\n",
    "\n",
    "# Create series for number of crew members associated with each movie_id\n",
    "number_of_crewmembers = pd.read_sql(\"\"\"SELECT movie_id, COUNT(crew_member_id) AS crewmember_count\n",
    "                                       FROM crew\n",
    "                                       GROUP BY movie_id\n",
    "                                       \"\"\", db, index_col='movie_id')\n",
    "number_of_crewmembers.index = number_of_crewmembers.index.map(int)\n",
    "\n",
    "# Dataframe for cast data to create gender ratio, and number of previous movies for cast\n",
    "cast_data = pd.read_sql(\"\"\"SELECT cc.movie_id, cc.cast_member_id, cc.cast_order, c.gender, m.release_date\n",
    "                           FROM cast_credit cc\n",
    "                           JOIN cast c ON cc.cast_member_id = c.cast_member_id\n",
    "                           JOIN movies m ON cc.movie_id = m.movie_id\n",
    "                                  \"\"\", db)\n",
    "cast_data.index = cast_data.index.map(int)"
   ]
  },
  {
   "cell_type": "code",
   "execution_count": 4,
   "metadata": {
    "collapsed": true
   },
   "outputs": [],
   "source": [
    "# Create feature to note if the movie is a sequel\n",
    "base_df.sort_values(['collection', 'release_date'], inplace=True)\n",
    "base_df['order_in_collection'] = 1\n",
    "\n",
    "current = None\n",
    "counter = 1\n",
    "\n",
    "for index, row in base_df.iterrows():\n",
    "    if row['collection'] is None:\n",
    "        break\n",
    "    if current != row['collection']:\n",
    "        counter = 1\n",
    "    base_df.set_value(index,'order_in_collection', counter)\n",
    "    current = row['collection']\n",
    "    counter += 1"
   ]
  },
  {
   "cell_type": "code",
   "execution_count": 5,
   "metadata": {
    "collapsed": true
   },
   "outputs": [],
   "source": [
    "# Create feature for season\n",
    "seasons = {\n",
    "    1:'winter',\n",
    "    2:'winter',\n",
    "    3:'spring',\n",
    "    4:'spring',\n",
    "    5:'spring',\n",
    "    6:'summer',\n",
    "    7:'summer',\n",
    "    8:'summer',\n",
    "    9:'fall',\n",
    "    10:'fall',\n",
    "    11:'fall',\n",
    "    12:'winter'\n",
    "}\n",
    "\n",
    "def season_for_date(date):\n",
    "    if pd.notnull(date):\n",
    "        return seasons[date.month]\n",
    "    else:\n",
    "        return None\n",
    "\n",
    "movie_season = base_df['release_date'].apply(season_for_date)\n",
    "movie_season.rename('season', inplace=True);"
   ]
  },
  {
   "cell_type": "code",
   "execution_count": 6,
   "metadata": {
    "collapsed": true
   },
   "outputs": [],
   "source": [
    "# Create feature for holiday\n",
    "us_holidays = holidays.UnitedStates()\n",
    "\n",
    "def check_holiday(date):\n",
    "    if pd.notnull(date):\n",
    "        return date in us_holidays\n",
    "    else:\n",
    "        return None\n",
    "    \n",
    "movie_is_holiday = base_df['release_date'].apply(check_holiday)\n",
    "movie_is_holiday.rename('is_holiday', inplace=True);"
   ]
  },
  {
   "cell_type": "code",
   "execution_count": 7,
   "metadata": {
    "collapsed": true
   },
   "outputs": [],
   "source": [
    "# Create feature for production company experience\n",
    "production_companies_joined = production_companies.merge(base_df, left_on='movie_id', right_index=True, how='left')\n",
    "\n",
    "production_companies_joined.sort_values(['company_name', 'release_date'], inplace=True)\n",
    "production_companies_joined['movies_produced'] = 0\n",
    "\n",
    "current = None\n",
    "counter = 0\n",
    "\n",
    "for index, row in production_companies_joined.iterrows():\n",
    "    if current != row['company_name']:\n",
    "        counter = 0\n",
    "    production_companies_joined.set_value(index,'movies_produced', counter)\n",
    "    current = row['company_name']\n",
    "    counter += 1\n",
    "    \n",
    "production_company_experience = production_companies_joined.groupby(by='movie_id').sum()['movies_produced']"
   ]
  },
  {
   "cell_type": "code",
   "execution_count": 8,
   "metadata": {
    "collapsed": true
   },
   "outputs": [],
   "source": [
    "# Create feature for cast experience\n",
    "cast_data.sort_values(['cast_member_id', 'release_date'], inplace=True)\n",
    "cast_data['movie_experience'] = 0\n",
    "\n",
    "current = None\n",
    "counter = 0\n",
    "\n",
    "for index, row in cast_data.iterrows():\n",
    "    if current != row['cast_member_id']:\n",
    "        counter = 0\n",
    "    cast_data.set_value(index,'movie_experience', counter)\n",
    "    current = row['cast_member_id']\n",
    "    counter += 1\n",
    "    \n",
    "cast_experience = cast_data[cast_data['cast_order'] <= 10].groupby('movie_id').sum()['movie_experience']"
   ]
  },
  {
   "cell_type": "code",
   "execution_count": 9,
   "metadata": {
    "collapsed": true
   },
   "outputs": [],
   "source": [
    "# Create dummy variables for genre\n",
    "pivot_genre = genre_df.pivot_table(index='movie_id',columns='genre_name', values='genre_name',aggfunc=len, fill_value=0)\n",
    "pivot_genre.index = pivot_genre.index.map(int)\n",
    "pivot_genre = pivot_genre.apply(pd.to_numeric)"
   ]
  },
  {
   "cell_type": "code",
   "execution_count": 32,
   "metadata": {},
   "outputs": [
    {
     "data": {
      "text/plain": [
       "movie_id\n",
       "2         1.000000\n",
       "3         1.400000\n",
       "5         1.500000\n",
       "6         2.000000\n",
       "9         2.000000\n",
       "11        1.833333\n",
       "12        1.666667\n",
       "13        1.600000\n",
       "14        1.500000\n",
       "15        1.800000\n",
       "16        1.400000\n",
       "17        1.500000\n",
       "18        1.800000\n",
       "19        1.833333\n",
       "20        1.333333\n",
       "22        1.833333\n",
       "24        1.333333\n",
       "25        2.000000\n",
       "26        1.500000\n",
       "27        1.500000\n",
       "28        2.000000\n",
       "30        1.000000\n",
       "32        0.000000\n",
       "33        1.857143\n",
       "35        1.500000\n",
       "38        1.666667\n",
       "55        1.333333\n",
       "58        1.833333\n",
       "59        1.500000\n",
       "62        1.666667\n",
       "            ...   \n",
       "477859    1.000000\n",
       "477860    0.600000\n",
       "477877    1.600000\n",
       "477898    1.333333\n",
       "477899    1.000000\n",
       "477900    0.666667\n",
       "477905    1.000000\n",
       "477921    0.500000\n",
       "477923    0.000000\n",
       "477930    0.400000\n",
       "477936    1.500000\n",
       "477939    1.500000\n",
       "477943    0.750000\n",
       "477954    1.000000\n",
       "477964    0.666667\n",
       "477965    0.750000\n",
       "477967    2.000000\n",
       "477971    0.250000\n",
       "477979    1.333333\n",
       "477982    1.500000\n",
       "478005    1.400000\n",
       "478007    1.000000\n",
       "478009    0.000000\n",
       "478012    0.800000\n",
       "478022    1.750000\n",
       "478023    1.250000\n",
       "478024    1.666667\n",
       "478025    0.750000\n",
       "478031    2.000000\n",
       "478036    1.000000\n",
       "Name: gender, Length: 96774, dtype: float64"
      ]
     },
     "execution_count": 32,
     "metadata": {},
     "output_type": "execute_result"
    }
   ],
   "source": [
    "# Create column for gender ratio\n",
    "gender_data = cast_data[cast_data['cast_order'] <= 5]\n",
    "gender_data = gender_data.groupby(by='movie_id').mean()['gender']\n",
    "gender_data.index = gender_data.index.map(int)"
   ]
  },
  {
   "cell_type": "code",
   "execution_count": 37,
   "metadata": {},
   "outputs": [
    {
     "name": "stdout",
     "output_type": "stream",
     "text": [
      "<class 'pandas.core.frame.DataFrame'>\n",
      "Int64Index: 6273 entries, 117263 to 394117\n",
      "Data columns (total 36 columns):\n",
      "budget                 6273 non-null int64\n",
      "release_date           6273 non-null datetime64[ns]\n",
      "revenue                6273 non-null int64\n",
      "runtime                6265 non-null float64\n",
      "imdb_budget            1992 non-null object\n",
      "imdb_revenue           2061 non-null object\n",
      "title                  6273 non-null object\n",
      "collection             1265 non-null object\n",
      "order_in_collection    6273 non-null int64\n",
      "Action                 6273 non-null int64\n",
      "Adventure              6273 non-null int64\n",
      "Animation              6273 non-null int64\n",
      "Comedy                 6273 non-null int64\n",
      "Crime                  6273 non-null int64\n",
      "Documentary            6273 non-null int64\n",
      "Drama                  6273 non-null int64\n",
      "Family                 6273 non-null int64\n",
      "Fantasy                6273 non-null int64\n",
      "Foreign                6273 non-null int64\n",
      "History                6273 non-null int64\n",
      "Horror                 6273 non-null int64\n",
      "Music                  6273 non-null int64\n",
      "Mystery                6273 non-null int64\n",
      "Romance                6273 non-null int64\n",
      "Science Fiction        6273 non-null int64\n",
      "TV Movie               6273 non-null int64\n",
      "Thriller               6273 non-null int64\n",
      "War                    6273 non-null int64\n",
      "Western                6273 non-null int64\n",
      "prod_company_count     6273 non-null int64\n",
      "crewmember_count       6273 non-null int64\n",
      "gender                 6273 non-null float64\n",
      "movie_experience       6273 non-null int64\n",
      "movies_produced        6273 non-null int64\n",
      "is_holiday             6273 non-null object\n",
      "season                 6273 non-null object\n",
      "dtypes: datetime64[ns](1), float64(2), int64(27), object(6)\n",
      "memory usage: 1.8+ MB\n"
     ]
    }
   ],
   "source": [
    "# Join 'em up\n",
    "df = base_df.join(pivot_genre, how='inner')\n",
    "df = df.join(number_of_prod_companies, how='inner')\n",
    "df = df.join(number_of_crewmembers, how='inner')\n",
    "df = df.join(gender_data, how='inner')\n",
    "df = df.join(cast_experience, how='inner')\n",
    "df = df.join(production_company_experience, how='inner')\n",
    "df = df.join(movie_is_holiday, how='inner')\n",
    "df = df.join(movie_season, how='inner')\n",
    "\n",
    "df.info()"
   ]
  },
  {
   "cell_type": "code",
   "execution_count": 30,
   "metadata": {},
   "outputs": [
    {
     "data": {
      "text/plain": [
       "count    392886.000000\n",
       "mean          1.044860\n",
       "std           0.868119\n",
       "min           0.000000\n",
       "25%           0.000000\n",
       "50%           1.000000\n",
       "75%           2.000000\n",
       "max           2.000000\n",
       "Name: gender, dtype: float64"
      ]
     },
     "execution_count": 30,
     "metadata": {},
     "output_type": "execute_result"
    }
   ],
   "source": [
    "gender_data.describe()"
   ]
  }
 ],
 "metadata": {
  "kernelspec": {
   "display_name": "Python 3",
   "language": "python",
   "name": "python3"
  },
  "language_info": {
   "codemirror_mode": {
    "name": "ipython",
    "version": 3
   },
   "file_extension": ".py",
   "mimetype": "text/x-python",
   "name": "python",
   "nbconvert_exporter": "python",
   "pygments_lexer": "ipython3",
   "version": "3.6.1"
  }
 },
 "nbformat": 4,
 "nbformat_minor": 2
}
