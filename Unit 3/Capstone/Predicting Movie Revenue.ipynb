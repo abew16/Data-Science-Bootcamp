{
 "cells": [
  {
   "cell_type": "markdown",
   "metadata": {},
   "source": [
    "# Predicting Movie Revenue\n",
    "\n",
    "## Features  \n",
    "\n",
    "**Variable to Predict:** Revenue\n",
    "\n",
    "\n",
    "- Budget  \n",
    "- Runtime  \n",
    "- Genre  \n",
    "- Release Date  \n",
    " - Season  \n",
    " - Holiday   \n",
    "- Production Companies  \n",
    " - Number of companies involved  \n",
    " - Number of movies a company has made (previously)  \n",
    "   - Histogram of how often top 10% of production companies make movies\n",
    "- Crew\n",
    " - Number of crewmembers  \n",
    "- Cast\n",
    " - Gender Ratio for top 2/5/10/25\n",
    " - Number of previous movies top 10 cast have been in\n",
    "- Collection\n",
    " - Is sequel  \n"
   ]
  },
  {
   "cell_type": "code",
   "execution_count": 1,
   "metadata": {
    "collapsed": true
   },
   "outputs": [],
   "source": [
    "import pandas as pd\n",
    "import sqlite3"
   ]
  },
  {
   "cell_type": "code",
   "execution_count": 2,
   "metadata": {
    "collapsed": true
   },
   "outputs": [],
   "source": [
    "db = sqlite3.connect(r'../../../Data Science Data/Unit 3/db.sqlite')"
   ]
  },
  {
   "cell_type": "code",
   "execution_count": 15,
   "metadata": {},
   "outputs": [
    {
     "ename": "TypeError",
     "evalue": "read_sql() missing 2 required positional arguments: 'sql' and 'con'",
     "output_type": "error",
     "traceback": [
      "\u001b[1;31m---------------------------------------------------------------------------\u001b[0m",
      "\u001b[1;31mTypeError\u001b[0m                                 Traceback (most recent call last)",
      "\u001b[1;32m<ipython-input-15-2a8378ed3a5a>\u001b[0m in \u001b[0;36m<module>\u001b[1;34m()\u001b[0m\n\u001b[0;32m      8\u001b[0m \u001b[0mgenre_df\u001b[0m \u001b[1;33m=\u001b[0m \u001b[0mpd\u001b[0m\u001b[1;33m.\u001b[0m\u001b[0mread_sql\u001b[0m\u001b[1;33m(\u001b[0m\u001b[1;34m\"\"\"SELECT * FROM genres\"\"\"\u001b[0m\u001b[1;33m,\u001b[0m \u001b[0mdb\u001b[0m\u001b[1;33m)\u001b[0m\u001b[1;33m\u001b[0m\u001b[0m\n\u001b[0;32m      9\u001b[0m \u001b[1;33m\u001b[0m\u001b[0m\n\u001b[1;32m---> 10\u001b[1;33m \u001b[0mnumber_of_prod_companies\u001b[0m \u001b[1;33m=\u001b[0m \u001b[0mpd\u001b[0m\u001b[1;33m.\u001b[0m\u001b[0mread_sql\u001b[0m\u001b[1;33m(\u001b[0m\u001b[1;33m)\u001b[0m\u001b[1;33m\u001b[0m\u001b[0m\n\u001b[0m",
      "\u001b[1;31mTypeError\u001b[0m: read_sql() missing 2 required positional arguments: 'sql' and 'con'"
     ]
    }
   ],
   "source": [
    "## SQL import statements to create dataframes\n",
    "\n",
    "# Base dataframe to join other onto\n",
    "base_df = pd.read_sql(\"\"\"SELECT movie_id, budget, release_date, revenue, runtime, imdb_budget, imdb_revenue, title \n",
    "                         FROM movies \n",
    "                         WHERE (budget > 0 OR imdb_budget > 0) AND (revenue > 0 OR imdb_revenue > 0)\n",
    "                      \"\"\", db, index_col='movie_id')\n",
    "base_df.index = base_df.index.map(int)\n",
    "\n",
    "# Pull in genre table to create dummy variables\n",
    "genre_df = pd.read_sql(\"\"\"SELECT * FROM genres\"\"\", db)\n",
    "\n",
    "# Create series for number of production companies associated with each movie_id\n",
    "number_of_prod_companies = pd.read_sql(\"\"\"SELECT movie_id, COUNT(company_name)\n",
    "                                          FROM production_companies\n",
    "                                          GROUP BY 1\n",
    "                                          \"\"\", db, index_col='movie_id')\n",
    "\n",
    "# Create series for number of crew members associated with each movie_id\n",
    "number_of_crewmembers = pd.read_sql(\"\"\"SELECT movie_id, COUNT(crew_member_id)\n",
    "                                       FROM crew\n",
    "                                       GROUP BY 1\n",
    "                                       \"\"\", db, index_col='movie_id')\n",
    "\n",
    "# Dataframe for cast data to create gender ratio and previous movies for cast features \n",
    "cast_data = pd.read_sql(\"\"\"SELECT cc.movie_id, cc.cast_member_id, cc.cast_order, c.name, c.gender, m.release_date\n",
    "                           FROM cast_credit cc\n",
    "                           JOIN cast c ON cc.cast_member_id = c.cast_member_id\n",
    "                           JOIN movies m ON m.movie_id = cc.movie_id\n",
    "                           \"\"\", db, index_col = 'movie_id')"
   ]
  },
  {
   "cell_type": "code",
   "execution_count": 14,
   "metadata": {},
   "outputs": [],
   "source": [
    "pivot_genre = genre_df.pivot_table(index='movie_id',columns='genre_name', values='genre_name',aggfunc=len, fill_value=0)\n",
    "pivot_genre.index = pivot_genre.index.map(int)\n",
    "pivot_genre = pivot_genre.apply(pd.to_numeric)"
   ]
  },
  {
   "cell_type": "code",
   "execution_count": 13,
   "metadata": {},
   "outputs": [
    {
     "name": "stdout",
     "output_type": "stream",
     "text": [
      "<class 'pandas.core.frame.DataFrame'>\n",
      "Int64Index: 6557 entries, 819 to 84165\n",
      "Data columns (total 27 columns):\n",
      "budget             6557 non-null int64\n",
      "release_date       6557 non-null object\n",
      "revenue            6557 non-null int64\n",
      "runtime            6546 non-null float64\n",
      "imdb_budget        2096 non-null object\n",
      "imdb_revenue       2175 non-null object\n",
      "title              6557 non-null object\n",
      "Action             6557 non-null int64\n",
      "Adventure          6557 non-null int64\n",
      "Animation          6557 non-null int64\n",
      "Comedy             6557 non-null int64\n",
      "Crime              6557 non-null int64\n",
      "Documentary        6557 non-null int64\n",
      "Drama              6557 non-null int64\n",
      "Family             6557 non-null int64\n",
      "Fantasy            6557 non-null int64\n",
      "Foreign            6557 non-null int64\n",
      "History            6557 non-null int64\n",
      "Horror             6557 non-null int64\n",
      "Music              6557 non-null int64\n",
      "Mystery            6557 non-null int64\n",
      "Romance            6557 non-null int64\n",
      "Science Fiction    6557 non-null int64\n",
      "TV Movie           6557 non-null int64\n",
      "Thriller           6557 non-null int64\n",
      "War                6557 non-null int64\n",
      "Western            6557 non-null int64\n",
      "dtypes: float64(1), int64(22), object(4)\n",
      "memory usage: 1.4+ MB\n"
     ]
    }
   ],
   "source": [
    "df = base_df.join(pivot_genre, how='inner')\n",
    "df = df.join(number_of_prod_companies, how='inner')\n"
   ]
  }
 ],
 "metadata": {
  "kernelspec": {
   "display_name": "Python 3",
   "language": "python",
   "name": "python3"
  },
  "language_info": {
   "codemirror_mode": {
    "name": "ipython",
    "version": 3
   },
   "file_extension": ".py",
   "mimetype": "text/x-python",
   "name": "python",
   "nbconvert_exporter": "python",
   "pygments_lexer": "ipython3",
   "version": "3.6.1"
  }
 },
 "nbformat": 4,
 "nbformat_minor": 2
}
