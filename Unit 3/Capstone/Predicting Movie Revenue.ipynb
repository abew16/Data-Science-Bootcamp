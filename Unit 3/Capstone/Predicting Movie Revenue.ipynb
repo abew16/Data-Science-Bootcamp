{
 "cells": [
  {
   "cell_type": "markdown",
   "metadata": {},
   "source": [
    "# Predicting Movie Revenue\n",
    "\n",
    "## Features  \n",
    "\n",
    "**Variable to Predict:** Revenue\n",
    "\n",
    "\n",
    "- Budget  \n",
    "- Runtime  \n",
    "- Genre  \n",
    "- Release Date  \n",
    " - Season  \n",
    " - Holiday   \n",
    "- Production Companies  \n",
    " - Number of companies involved  \n",
    " - Number of movies a company has made (previously)  \n",
    "- Crew\n",
    " - Number of crewmembers  \n",
    "- Cast\n",
    " - Gender Ratio for top 2/5/10/25\n",
    " - Number of previous movies top 10 cast have been in\n",
    "- Collection\n",
    " - Is sequel (order)  \n"
   ]
  },
  {
   "cell_type": "code",
   "execution_count": 58,
   "metadata": {},
   "outputs": [],
   "source": [
    "import numpy as np\n",
    "import pandas as pd\n",
    "import sqlite3\n",
    "import holidays\n",
    "\n",
    "pd.set_option('display.float_format','{:.4f}'.format)"
   ]
  },
  {
   "cell_type": "code",
   "execution_count": 3,
   "metadata": {
    "collapsed": true
   },
   "outputs": [],
   "source": [
    "db = sqlite3.connect(r'../../../Data Science Data/Unit 3/db.sqlite')"
   ]
  },
  {
   "cell_type": "code",
   "execution_count": 4,
   "metadata": {
    "collapsed": true
   },
   "outputs": [],
   "source": [
    "## SQL import statements to create dataframes\n",
    "\n",
    "# Base dataframe to join other onto\n",
    "base_df = pd.read_sql(\"\"\"SELECT movie_id, budget, release_date, revenue, runtime, imdb_budget, imdb_revenue, title, collection \n",
    "                         FROM movies \n",
    "                         WHERE (budget > 0 OR imdb_budget > 0) AND (revenue > 0 OR imdb_revenue > 0)\n",
    "                      \"\"\", db, index_col='movie_id', parse_dates=['release_date'])\n",
    "base_df.index = base_df.index.map(int)\n",
    "\n",
    "# Pull in genre table to create dummy variables\n",
    "genre_df = pd.read_sql(\"\"\"SELECT * FROM genres\"\"\", db)\n",
    "\n",
    "# Create series for number of production companies associated with each movie_id\n",
    "number_of_prod_companies = pd.read_sql(\"\"\"SELECT movie_id, COUNT(company_name) AS prod_company_count\n",
    "                                          FROM production_companies\n",
    "                                          GROUP BY movie_id\n",
    "                                          \"\"\", db, index_col='movie_id')\n",
    "number_of_prod_companies.index = number_of_prod_companies.index.map(int)\n",
    "\n",
    "production_companies = pd.read_sql(\"\"\"\n",
    "    SELECT *\n",
    "    FROM production_companies\n",
    "    \"\"\", db)\n",
    "production_companies['movie_id'] = production_companies['movie_id'].map(int)\n",
    "\n",
    "# Create series for number of crew members associated with each movie_id\n",
    "number_of_crewmembers = pd.read_sql(\"\"\"SELECT movie_id, COUNT(crew_member_id) AS crewmember_count\n",
    "                                       FROM crew\n",
    "                                       GROUP BY movie_id\n",
    "                                       \"\"\", db, index_col='movie_id')\n",
    "number_of_crewmembers.index = number_of_crewmembers.index.map(int)\n",
    "\n",
    "# Dataframe for cast data to create gender ratio, and number of previous movies for cast\n",
    "cast_data = pd.read_sql(\"\"\"SELECT cc.movie_id, cc.cast_member_id, cc.cast_order, c.gender, m.release_date\n",
    "                           FROM cast_credit cc\n",
    "                           JOIN cast c ON cc.cast_member_id = c.cast_member_id\n",
    "                           JOIN movies m ON cc.movie_id = m.movie_id\n",
    "                                  \"\"\", db)\n",
    "cast_data.index = cast_data.index.map(int)"
   ]
  },
  {
   "cell_type": "code",
   "execution_count": 5,
   "metadata": {
    "collapsed": true
   },
   "outputs": [],
   "source": [
    "# Create feature to note if the movie is a sequel\n",
    "base_df.sort_values(['collection', 'release_date'], inplace=True)\n",
    "base_df['order_in_collection'] = 1\n",
    "\n",
    "current = None\n",
    "counter = 1\n",
    "\n",
    "for index, row in base_df.iterrows():\n",
    "    if row['collection'] is None:\n",
    "        break\n",
    "    if current != row['collection']:\n",
    "        counter = 1\n",
    "    base_df.set_value(index,'order_in_collection', counter)\n",
    "    current = row['collection']\n",
    "    counter += 1"
   ]
  },
  {
   "cell_type": "code",
   "execution_count": 6,
   "metadata": {
    "collapsed": true
   },
   "outputs": [],
   "source": [
    "# Create feature for season\n",
    "seasons = {\n",
    "    1:'winter',\n",
    "    2:'winter',\n",
    "    3:'spring',\n",
    "    4:'spring',\n",
    "    5:'spring',\n",
    "    6:'summer',\n",
    "    7:'summer',\n",
    "    8:'summer',\n",
    "    9:'fall',\n",
    "    10:'fall',\n",
    "    11:'fall',\n",
    "    12:'winter'\n",
    "}\n",
    "\n",
    "def season_for_date(date):\n",
    "    if pd.notnull(date):\n",
    "        return seasons[date.month]\n",
    "    else:\n",
    "        return None\n",
    "\n",
    "movie_season = base_df['release_date'].apply(season_for_date)\n",
    "movie_season.rename('season', inplace=True);"
   ]
  },
  {
   "cell_type": "code",
   "execution_count": 7,
   "metadata": {
    "collapsed": true
   },
   "outputs": [],
   "source": [
    "# Create feature for holiday\n",
    "us_holidays = holidays.UnitedStates()\n",
    "\n",
    "def check_holiday(date):\n",
    "    if pd.notnull(date):\n",
    "        return date in us_holidays\n",
    "    else:\n",
    "        return None\n",
    "    \n",
    "movie_is_holiday = base_df['release_date'].apply(check_holiday)\n",
    "movie_is_holiday.rename('is_holiday', inplace=True);"
   ]
  },
  {
   "cell_type": "code",
   "execution_count": 8,
   "metadata": {
    "collapsed": true
   },
   "outputs": [],
   "source": [
    "# Create feature for production company experience\n",
    "production_companies_joined = production_companies.merge(base_df, left_on='movie_id', right_index=True, how='left')\n",
    "\n",
    "production_companies_joined.sort_values(['company_name', 'release_date'], inplace=True)\n",
    "production_companies_joined['movies_produced'] = 0\n",
    "\n",
    "current = None\n",
    "counter = 0\n",
    "\n",
    "for index, row in production_companies_joined.iterrows():\n",
    "    if current != row['company_name']:\n",
    "        counter = 0\n",
    "    production_companies_joined.set_value(index,'movies_produced', counter)\n",
    "    current = row['company_name']\n",
    "    counter += 1\n",
    "    \n",
    "production_company_experience = production_companies_joined.groupby(by='movie_id').sum()['movies_produced']"
   ]
  },
  {
   "cell_type": "code",
   "execution_count": 9,
   "metadata": {
    "collapsed": true
   },
   "outputs": [],
   "source": [
    "# Create feature for cast experience\n",
    "cast_data.sort_values(['cast_member_id', 'release_date'], inplace=True)\n",
    "cast_data['movie_experience'] = 0\n",
    "\n",
    "current = None\n",
    "counter = 0\n",
    "\n",
    "for index, row in cast_data.iterrows():\n",
    "    if current != row['cast_member_id']:\n",
    "        counter = 0\n",
    "    cast_data.set_value(index,'movie_experience', counter)\n",
    "    current = row['cast_member_id']\n",
    "    counter += 1\n",
    "    \n",
    "cast_experience = cast_data[cast_data['cast_order'] <= 10].groupby('movie_id').sum()['movie_experience']"
   ]
  },
  {
   "cell_type": "code",
   "execution_count": 10,
   "metadata": {
    "collapsed": true
   },
   "outputs": [],
   "source": [
    "# Create dummy variables for genre\n",
    "pivot_genre = genre_df.pivot_table(index='movie_id',columns='genre_name', values='genre_name',aggfunc=len, fill_value=0)\n",
    "pivot_genre.index = pivot_genre.index.map(int)\n",
    "pivot_genre = pivot_genre.apply(pd.to_numeric)"
   ]
  },
  {
   "cell_type": "code",
   "execution_count": 16,
   "metadata": {},
   "outputs": [],
   "source": [
    "# Create column for gender ratio\n",
    "gender_data = cast_data[cast_data['gender'] != 0]\n",
    "gender_data = gender_data[gender_data['cast_order'] <= 5]\n",
    "gender_data['gender'] = gender_data['gender'] - 1\n",
    "gender_data = gender_data.groupby(by='movie_id').mean()['gender']\n",
    "gender_data.index = gender_data.index.map(int)"
   ]
  },
  {
   "cell_type": "code",
   "execution_count": 42,
   "metadata": {},
   "outputs": [
    {
     "name": "stdout",
     "output_type": "stream",
     "text": [
      "<class 'pandas.core.frame.DataFrame'>\n",
      "Int64Index: 6195 entries, 117263 to 394117\n",
      "Data columns (total 36 columns):\n",
      "budget                 6195 non-null int64\n",
      "release_date           6195 non-null datetime64[ns]\n",
      "revenue                6195 non-null int64\n",
      "runtime                6188 non-null float64\n",
      "imdb_budget            1938 non-null object\n",
      "imdb_revenue           2007 non-null object\n",
      "title                  6195 non-null object\n",
      "collection             1254 non-null object\n",
      "order_in_collection    6195 non-null int64\n",
      "Action                 6195 non-null int64\n",
      "Adventure              6195 non-null int64\n",
      "Animation              6195 non-null int64\n",
      "Comedy                 6195 non-null int64\n",
      "Crime                  6195 non-null int64\n",
      "Documentary            6195 non-null int64\n",
      "Drama                  6195 non-null int64\n",
      "Family                 6195 non-null int64\n",
      "Fantasy                6195 non-null int64\n",
      "Foreign                6195 non-null int64\n",
      "History                6195 non-null int64\n",
      "Horror                 6195 non-null int64\n",
      "Music                  6195 non-null int64\n",
      "Mystery                6195 non-null int64\n",
      "Romance                6195 non-null int64\n",
      "Science Fiction        6195 non-null int64\n",
      "TV Movie               6195 non-null int64\n",
      "Thriller               6195 non-null int64\n",
      "War                    6195 non-null int64\n",
      "Western                6195 non-null int64\n",
      "prod_company_count     6195 non-null int64\n",
      "crewmember_count       6195 non-null int64\n",
      "gender                 6195 non-null float64\n",
      "movie_experience       6195 non-null int64\n",
      "movies_produced        6195 non-null int64\n",
      "is_holiday             6195 non-null object\n",
      "season                 6195 non-null object\n",
      "dtypes: datetime64[ns](1), float64(2), int64(27), object(6)\n",
      "memory usage: 1.7+ MB\n"
     ]
    }
   ],
   "source": [
    "# Join 'em up\n",
    "df = base_df.join(pivot_genre, how='inner')\n",
    "df = df.join(number_of_prod_companies, how='inner')\n",
    "df = df.join(number_of_crewmembers, how='inner')\n",
    "df = df.join(gender_data, how='inner')\n",
    "df = df.join(cast_experience, how='inner')\n",
    "df = df.join(production_company_experience, how='inner')\n",
    "df = df.join(movie_is_holiday, how='inner')\n",
    "df = df.join(movie_season, how='inner')\n",
    "\n",
    "df.info()"
   ]
  },
  {
   "cell_type": "code",
   "execution_count": 43,
   "metadata": {
    "scrolled": true
   },
   "outputs": [],
   "source": [
    "df['complete_budget'] = df['budget'].replace(0,np.nan).fillna(df['imdb_budget'])\n",
    "df['complete_revenue'] = df['revenue'].replace(0,np.nan).fillna(df['imdb_revenue'])\n",
    "\n",
    "df['complete_budget'] = pd.to_numeric(df['complete_budget'],errors='coerce')\n",
    "df['complete_revenue'] = pd.to_numeric(df['complete_revenue'],errors='coerce')"
   ]
  },
  {
   "cell_type": "code",
   "execution_count": 44,
   "metadata": {},
   "outputs": [],
   "source": [
    "df['is_sequel'] = df['order_in_collection'] > 1"
   ]
  },
  {
   "cell_type": "code",
   "execution_count": 45,
   "metadata": {},
   "outputs": [
    {
     "name": "stdout",
     "output_type": "stream",
     "text": [
      "<class 'pandas.core.frame.DataFrame'>\n",
      "Int64Index: 5687 entries, 117263 to 394117\n",
      "Data columns (total 35 columns):\n",
      "budget                5687 non-null int64\n",
      "release_date          5687 non-null datetime64[ns]\n",
      "revenue               5687 non-null int64\n",
      "runtime               5687 non-null float64\n",
      "title                 5687 non-null object\n",
      "Action                5687 non-null int64\n",
      "Adventure             5687 non-null int64\n",
      "Animation             5687 non-null int64\n",
      "Comedy                5687 non-null int64\n",
      "Crime                 5687 non-null int64\n",
      "Documentary           5687 non-null int64\n",
      "Drama                 5687 non-null int64\n",
      "Family                5687 non-null int64\n",
      "Fantasy               5687 non-null int64\n",
      "Foreign               5687 non-null int64\n",
      "History               5687 non-null int64\n",
      "Horror                5687 non-null int64\n",
      "Music                 5687 non-null int64\n",
      "Mystery               5687 non-null int64\n",
      "Romance               5687 non-null int64\n",
      "Science Fiction       5687 non-null int64\n",
      "TV Movie              5687 non-null int64\n",
      "Thriller              5687 non-null int64\n",
      "War                   5687 non-null int64\n",
      "Western               5687 non-null int64\n",
      "prod_company_count    5687 non-null int64\n",
      "crewmember_count      5687 non-null int64\n",
      "gender                5687 non-null float64\n",
      "movie_experience      5687 non-null int64\n",
      "movies_produced       5687 non-null int64\n",
      "is_holiday            5687 non-null object\n",
      "season                5687 non-null object\n",
      "complete_budget       5687 non-null float64\n",
      "complete_revenue      5687 non-null float64\n",
      "is_sequel             5687 non-null bool\n",
      "dtypes: bool(1), datetime64[ns](1), float64(4), int64(26), object(3)\n",
      "memory usage: 1.5+ MB\n"
     ]
    }
   ],
   "source": [
    "cols_to_drop = ['imdb_budget','imdb_revenue','collection','order_in_collection']\n",
    "df.drop(cols_to_drop,axis=1,inplace=True)\n",
    "df.dropna(inplace=True)\n",
    "df.info()"
   ]
  },
  {
   "cell_type": "code",
   "execution_count": 62,
   "metadata": {},
   "outputs": [
    {
     "data": {
      "text/plain": [
       "count        5687.0000\n",
       "mean     28185572.7630\n",
       "std      37388217.8597\n",
       "min             1.0000\n",
       "25%       5000000.0000\n",
       "50%      15000000.0000\n",
       "75%      35000000.0000\n",
       "max     380000000.0000\n",
       "Name: complete_budget, dtype: float64"
      ]
     },
     "execution_count": 62,
     "metadata": {},
     "output_type": "execute_result"
    }
   ],
   "source": [
    "df['complete_budget'].describe()"
   ]
  }
 ],
 "metadata": {
  "kernelspec": {
   "display_name": "Python 3",
   "language": "python",
   "name": "python3"
  },
  "language_info": {
   "codemirror_mode": {
    "name": "ipython",
    "version": 3
   },
   "file_extension": ".py",
   "mimetype": "text/x-python",
   "name": "python",
   "nbconvert_exporter": "python",
   "pygments_lexer": "ipython3",
   "version": "3.6.1"
  }
 },
 "nbformat": 4,
 "nbformat_minor": 2
}
